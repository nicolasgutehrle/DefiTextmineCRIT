{
 "cells": [
  {
   "cell_type": "code",
   "execution_count": 4,
   "metadata": {},
   "outputs": [],
   "source": [
    "import pandas as pd\n",
    "\n",
    "from sklearn.metrics import f1_score\n"
   ]
  },
  {
   "cell_type": "code",
   "execution_count": 2,
   "metadata": {},
   "outputs": [
    {
     "data": {
      "text/html": [
       "<div>\n",
       "<style scoped>\n",
       "    .dataframe tbody tr th:only-of-type {\n",
       "        vertical-align: middle;\n",
       "    }\n",
       "\n",
       "    .dataframe tbody tr th {\n",
       "        vertical-align: top;\n",
       "    }\n",
       "\n",
       "    .dataframe thead th {\n",
       "        text-align: right;\n",
       "    }\n",
       "</style>\n",
       "<table border=\"1\" class=\"dataframe\">\n",
       "  <thead>\n",
       "    <tr style=\"text-align: right;\">\n",
       "      <th></th>\n",
       "      <th>Id</th>\n",
       "      <th>Label</th>\n",
       "    </tr>\n",
       "  </thead>\n",
       "  <tbody>\n",
       "    <tr>\n",
       "      <th>0</th>\n",
       "      <td>0</td>\n",
       "      <td>aucun</td>\n",
       "    </tr>\n",
       "    <tr>\n",
       "      <th>1</th>\n",
       "      <td>1</td>\n",
       "      <td>aucun</td>\n",
       "    </tr>\n",
       "    <tr>\n",
       "      <th>2</th>\n",
       "      <td>2</td>\n",
       "      <td>aucun</td>\n",
       "    </tr>\n",
       "    <tr>\n",
       "      <th>3</th>\n",
       "      <td>3</td>\n",
       "      <td>aucun</td>\n",
       "    </tr>\n",
       "    <tr>\n",
       "      <th>4</th>\n",
       "      <td>4</td>\n",
       "      <td>aucun</td>\n",
       "    </tr>\n",
       "    <tr>\n",
       "      <th>...</th>\n",
       "      <td>...</td>\n",
       "      <td>...</td>\n",
       "    </tr>\n",
       "    <tr>\n",
       "      <th>26168</th>\n",
       "      <td>26168</td>\n",
       "      <td>aucun</td>\n",
       "    </tr>\n",
       "    <tr>\n",
       "      <th>26169</th>\n",
       "      <td>26169</td>\n",
       "      <td>aucun</td>\n",
       "    </tr>\n",
       "    <tr>\n",
       "      <th>26170</th>\n",
       "      <td>26170</td>\n",
       "      <td>aucun</td>\n",
       "    </tr>\n",
       "    <tr>\n",
       "      <th>26171</th>\n",
       "      <td>26171</td>\n",
       "      <td>aucun</td>\n",
       "    </tr>\n",
       "    <tr>\n",
       "      <th>26172</th>\n",
       "      <td>26172</td>\n",
       "      <td>aucun</td>\n",
       "    </tr>\n",
       "  </tbody>\n",
       "</table>\n",
       "<p>26173 rows × 2 columns</p>\n",
       "</div>"
      ],
      "text/plain": [
       "          Id  Label\n",
       "0          0  aucun\n",
       "1          1  aucun\n",
       "2          2  aucun\n",
       "3          3  aucun\n",
       "4          4  aucun\n",
       "...      ...    ...\n",
       "26168  26168  aucun\n",
       "26169  26169  aucun\n",
       "26170  26170  aucun\n",
       "26171  26171  aucun\n",
       "26172  26172  aucun\n",
       "\n",
       "[26173 rows x 2 columns]"
      ]
     },
     "execution_count": 2,
     "metadata": {},
     "output_type": "execute_result"
    }
   ],
   "source": [
    "baseline = pd.read_csv('submissions/submission_crf_only_1.csv')\n",
    "baseline"
   ]
  },
  {
   "cell_type": "code",
   "execution_count": 7,
   "metadata": {},
   "outputs": [
    {
     "data": {
      "text/plain": [
       "0.9045963397394261"
      ]
     },
     "execution_count": 7,
     "metadata": {},
     "output_type": "execute_result"
    }
   ],
   "source": [
    "sub1 = pd.read_csv('submissions/submission_crf_only_0.0001_0.1_1.csv')\n",
    "\n",
    "f1_score(baseline['Label'], sub1['Label'], average='micro')"
   ]
  },
  {
   "cell_type": "code",
   "execution_count": 8,
   "metadata": {},
   "outputs": [
    {
     "data": {
      "text/plain": [
       "0.9309975929392887"
      ]
     },
     "execution_count": 8,
     "metadata": {},
     "output_type": "execute_result"
    }
   ],
   "source": [
    "sub2 = pd.read_csv('submissions/submission_crf_only_0.1_0.0001_1.csv')\n",
    "f1_score(baseline['Label'], sub2['Label'], average='micro')"
   ]
  },
  {
   "cell_type": "code",
   "execution_count": 11,
   "metadata": {},
   "outputs": [
    {
     "data": {
      "text/plain": [
       "1.0"
      ]
     },
     "execution_count": 11,
     "metadata": {},
     "output_type": "execute_result"
    }
   ],
   "source": [
    "sub3 = pd.read_csv('submissions/submission_crf_only_0.001_0.1_1.csv')\n",
    "f1_score(baseline['Label'], sub3['Label'], average='micro')"
   ]
  },
  {
   "cell_type": "code",
   "execution_count": 9,
   "metadata": {},
   "outputs": [],
   "source": [
    "baseline['sub1'] = sub1['Label']\n",
    "baseline['sub2'] = sub2['Label']"
   ]
  },
  {
   "cell_type": "code",
   "execution_count": 10,
   "metadata": {},
   "outputs": [
    {
     "data": {
      "text/html": [
       "<div>\n",
       "<style scoped>\n",
       "    .dataframe tbody tr th:only-of-type {\n",
       "        vertical-align: middle;\n",
       "    }\n",
       "\n",
       "    .dataframe tbody tr th {\n",
       "        vertical-align: top;\n",
       "    }\n",
       "\n",
       "    .dataframe thead th {\n",
       "        text-align: right;\n",
       "    }\n",
       "</style>\n",
       "<table border=\"1\" class=\"dataframe\">\n",
       "  <thead>\n",
       "    <tr style=\"text-align: right;\">\n",
       "      <th></th>\n",
       "      <th>Id</th>\n",
       "      <th>Label</th>\n",
       "      <th>sub1</th>\n",
       "      <th>sub2</th>\n",
       "    </tr>\n",
       "  </thead>\n",
       "  <tbody>\n",
       "    <tr>\n",
       "      <th>6</th>\n",
       "      <td>6</td>\n",
       "      <td>aucun</td>\n",
       "      <td>aucun</td>\n",
       "      <td>geogName name</td>\n",
       "    </tr>\n",
       "    <tr>\n",
       "      <th>38</th>\n",
       "      <td>38</td>\n",
       "      <td>aucun</td>\n",
       "      <td>geogName</td>\n",
       "      <td>geogName</td>\n",
       "    </tr>\n",
       "    <tr>\n",
       "      <th>67</th>\n",
       "      <td>67</td>\n",
       "      <td>geogFeat</td>\n",
       "      <td>aucun</td>\n",
       "      <td>aucun</td>\n",
       "    </tr>\n",
       "    <tr>\n",
       "      <th>87</th>\n",
       "      <td>87</td>\n",
       "      <td>geogName name</td>\n",
       "      <td>aucun</td>\n",
       "      <td>aucun</td>\n",
       "    </tr>\n",
       "    <tr>\n",
       "      <th>151</th>\n",
       "      <td>151</td>\n",
       "      <td>geogName name</td>\n",
       "      <td>aucun</td>\n",
       "      <td>aucun</td>\n",
       "    </tr>\n",
       "    <tr>\n",
       "      <th>...</th>\n",
       "      <td>...</td>\n",
       "      <td>...</td>\n",
       "      <td>...</td>\n",
       "      <td>...</td>\n",
       "    </tr>\n",
       "    <tr>\n",
       "      <th>26105</th>\n",
       "      <td>26105</td>\n",
       "      <td>geogName name</td>\n",
       "      <td>aucun</td>\n",
       "      <td>aucun</td>\n",
       "    </tr>\n",
       "    <tr>\n",
       "      <th>26113</th>\n",
       "      <td>26113</td>\n",
       "      <td>geogFeat</td>\n",
       "      <td>aucun</td>\n",
       "      <td>aucun</td>\n",
       "    </tr>\n",
       "    <tr>\n",
       "      <th>26114</th>\n",
       "      <td>26114</td>\n",
       "      <td>geogFeat</td>\n",
       "      <td>aucun</td>\n",
       "      <td>aucun</td>\n",
       "    </tr>\n",
       "    <tr>\n",
       "      <th>26121</th>\n",
       "      <td>26121</td>\n",
       "      <td>aucun</td>\n",
       "      <td>geogFeat</td>\n",
       "      <td>geogFeat</td>\n",
       "    </tr>\n",
       "    <tr>\n",
       "      <th>26129</th>\n",
       "      <td>26129</td>\n",
       "      <td>aucun</td>\n",
       "      <td>geogFeat</td>\n",
       "      <td>geogFeat</td>\n",
       "    </tr>\n",
       "  </tbody>\n",
       "</table>\n",
       "<p>1806 rows × 4 columns</p>\n",
       "</div>"
      ],
      "text/plain": [
       "          Id          Label      sub1           sub2\n",
       "6          6          aucun     aucun  geogName name\n",
       "38        38          aucun  geogName       geogName\n",
       "67        67       geogFeat     aucun          aucun\n",
       "87        87  geogName name     aucun          aucun\n",
       "151      151  geogName name     aucun          aucun\n",
       "...      ...            ...       ...            ...\n",
       "26105  26105  geogName name     aucun          aucun\n",
       "26113  26113       geogFeat     aucun          aucun\n",
       "26114  26114       geogFeat     aucun          aucun\n",
       "26121  26121          aucun  geogFeat       geogFeat\n",
       "26129  26129          aucun  geogFeat       geogFeat\n",
       "\n",
       "[1806 rows x 4 columns]"
      ]
     },
     "execution_count": 10,
     "metadata": {},
     "output_type": "execute_result"
    }
   ],
   "source": [
    "baseline[\n",
    "    baseline['Label'] != baseline['sub2']\n",
    "]"
   ]
  }
 ],
 "metadata": {
  "kernelspec": {
   "display_name": "textmine",
   "language": "python",
   "name": "python3"
  },
  "language_info": {
   "codemirror_mode": {
    "name": "ipython",
    "version": 3
   },
   "file_extension": ".py",
   "mimetype": "text/x-python",
   "name": "python",
   "nbconvert_exporter": "python",
   "pygments_lexer": "ipython3",
   "version": "3.11.4"
  },
  "orig_nbformat": 4
 },
 "nbformat": 4,
 "nbformat_minor": 2
}
