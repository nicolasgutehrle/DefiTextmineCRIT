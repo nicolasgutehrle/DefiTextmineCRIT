{
 "cells": [
  {
   "cell_type": "markdown",
   "metadata": {},
   "source": [
    "# Classification\n",
    "\n",
    "To classify candidates extracted by the CRF classifier"
   ]
  },
  {
   "cell_type": "code",
   "execution_count": 11,
   "metadata": {},
   "outputs": [],
   "source": [
    "import gensim \n",
    "import pandas as pd\n",
    "import numpy as np\n",
    "import spacy \n",
    "import xgboost as xgb\n",
    "from sklearn.preprocessing import LabelEncoder\n",
    "from sklearn.metrics import classification_report, make_scorer\n",
    "from sklearn.model_selection import train_test_split, cross_val_score, RandomizedSearchCV\n",
    "\n",
    "\n",
    "import scipy\n",
    "\n",
    "import joblib\n",
    "import os\n",
    "\n",
    "import string\n",
    "\n",
    "from sklearn.multiclass import OneVsRestClassifier\n",
    "\n",
    "from sklearn.neighbors import KNeighborsClassifier\n",
    "from sklearn.svm import SVC\n",
    "from sklearn.ensemble import RandomForestClassifier\n",
    "from sklearn.neighbors import NearestCentroid"
   ]
  },
  {
   "cell_type": "code",
   "execution_count": null,
   "metadata": {},
   "outputs": [],
   "source": [
    "# nlp = spacy.load('fr_core_news_lg')"
   ]
  },
  {
   "cell_type": "code",
   "execution_count": 3,
   "metadata": {},
   "outputs": [],
   "source": [
    "df_train = pd.read_csv('../data/train_2.csv')\n",
    "df_test = pd.read_csv('data/test.csv')\n",
    "df_sample = pd.read_csv('data/sample_submission_2.csv')"
   ]
  },
  {
   "cell_type": "code",
   "execution_count": 5,
   "metadata": {},
   "outputs": [],
   "source": [
    "from gensim.models import KeyedVectors\n",
    "embeddings_path = '../embeddings/conceptnet_fr-19.08-clean_simpler'\n",
    "we = KeyedVectors.load(embeddings_path, mmap='r')"
   ]
  },
  {
   "cell_type": "code",
   "execution_count": 6,
   "metadata": {},
   "outputs": [],
   "source": [
    "def vectorize(we:KeyedVectors, word:str) -> np.memmap:\n",
    "    \"\"\"Vectorize a word into a word embedding vector\n",
    "\n",
    "    :param we: Word embedding to use\n",
    "    :type we: KeyedVectors\n",
    "    :param word: Word to convert\n",
    "    :type word: str\n",
    "    :return: Embeddings corresponding to this word\n",
    "    :rtype: np.memmap\n",
    "    \"\"\"\n",
    "    try:\n",
    "        vector = we.word_vec(word)\n",
    "    except:\n",
    "        try:\n",
    "            vector = we.word_vec(word.lower())\n",
    "        except:\n",
    "            vector = np.zeros(300)\n",
    "    return vector"
   ]
  },
  {
   "cell_type": "code",
   "execution_count": 7,
   "metadata": {},
   "outputs": [],
   "source": [
    "def getMultiLabel(data:pd.DataFrame) -> dict:\n",
    "    \"\"\"Converts labels from the train set into multi label\n",
    "    Ignores tokens labelled 'aucun' since those are identified by the CRF classifier\n",
    "\n",
    "    :param data: Data containing the training data\n",
    "    :type data: pd.DataFrame\n",
    "    :return: dictionary containing the label / labels for each token\n",
    "    :rtype: dict\n",
    "    \"\"\"\n",
    "    y_train_multilabel = {\n",
    "        # \"aucun\": [],\n",
    "        \"geogFeat\": [],\n",
    "        'geogName': [],\n",
    "        'name': []\n",
    "    }\n",
    "    for x in data['Label']:\n",
    "        # if x == 'aucun':\n",
    "        #     y_train_multilabel['aucun'].append(1)\n",
    "        #     y_train_multilabel['name'].append(0)\n",
    "        #     y_train_multilabel['geogFeat'].append(0)\n",
    "        #     y_train_multilabel['geogName'].append(0)\n",
    "\n",
    "        # elif x == 'geogFeat geogName':\n",
    "        if x == 'geogFeat geogName':\n",
    "\n",
    "            y_train_multilabel['geogFeat'].append(1)\n",
    "            y_train_multilabel['geogName'].append(1)\n",
    "            # y_train_multilabel['aucun'].append(0)\n",
    "            y_train_multilabel['name'].append(0)\n",
    "\n",
    "\n",
    "        elif x == 'geogName name':\n",
    "            y_train_multilabel['geogName'].append(1)\n",
    "            y_train_multilabel['name'].append(1)\n",
    "            # y_train_multilabel['aucun'].append(0)\n",
    "            y_train_multilabel['geogFeat'].append(0)\n",
    "\n",
    "        elif x == 'geogFeat':\n",
    "            y_train_multilabel['geogFeat'].append(1)\n",
    "            # y_train_multilabel['aucun'].append(0)\n",
    "            y_train_multilabel['name'].append(0)\n",
    "            y_train_multilabel['geogName'].append(0)\n",
    "\n",
    "        elif x == 'geogName':\n",
    "            y_train_multilabel['geogName'].append(1)\n",
    "            # y_train_multilabel['aucun'].append(0)\n",
    "            y_train_multilabel['name'].append(0)\n",
    "            y_train_multilabel['geogFeat'].append(0)\n",
    "\n",
    "\n",
    "    return y_train_multilabel\n"
   ]
  },
  {
   "cell_type": "code",
   "execution_count": 8,
   "metadata": {},
   "outputs": [
    {
     "name": "stderr",
     "output_type": "stream",
     "text": [
      "/var/folders/g9/npfr2mks4118dkv7g8ckgccr0000gn/T/ipykernel_4180/4294341923.py:12: DeprecationWarning: Call to deprecated `word_vec` (Use get_vector instead).\n",
      "  vector = we.word_vec(word)\n",
      "/var/folders/g9/npfr2mks4118dkv7g8ckgccr0000gn/T/ipykernel_4180/4294341923.py:15: DeprecationWarning: Call to deprecated `word_vec` (Use get_vector instead).\n",
      "  vector = we.word_vec(word.lower())\n"
     ]
    }
   ],
   "source": [
    "# ignore tokens labelled 'aucun' as this classifier must classify the output of the CRF classifier\n",
    "# thus, we will evaluate the models in terms of micro precision, as we want a very precise classifier\n",
    "\n",
    "cls_X_train = np.array([vectorize(we=we, word=x)for x in df_train[df_train['Label'] != 'aucun']['Token'] ])\n",
    "y_train_multilabel = pd.DataFrame.from_dict(getMultiLabel(df_train[df_train['Label'] != 'aucun']))\n",
    "\n"
   ]
  },
  {
   "cell_type": "code",
   "execution_count": 35,
   "metadata": {},
   "outputs": [
    {
     "data": {
      "text/plain": [
       "Index(['geogFeat', 'geogName', 'name'], dtype='object')"
      ]
     },
     "execution_count": 35,
     "metadata": {},
     "output_type": "execute_result"
    }
   ],
   "source": [
    "y_train_multilabel.columns"
   ]
  },
  {
   "cell_type": "code",
   "execution_count": null,
   "metadata": {},
   "outputs": [
    {
     "data": {
      "text/plain": [
       "((27899, 300), (5979, 300), (27899, 4), (5979, 4), (5979, 300), (5979, 4))"
      ]
     },
     "metadata": {},
     "output_type": "display_data"
    }
   ],
   "source": [
    "# cls_X_train, cls_X_dev, cls_y_train, cls_y_dev = train_test_split(cls_X_train, y_train_multilabel, train_size=.7, random_state=42)\n",
    "# cls_X_dev, cls_X_test, cls_y_dev, cls_y_test = train_test_split(cls_X_dev, cls_y_dev, train_size=.5, random_state=42)\n",
    "\n",
    "# cls_X_train.shape, cls_X_dev.shape, cls_y_train.shape, cls_y_dev.shape, cls_X_test.shape, cls_y_test.shape"
   ]
  },
  {
   "cell_type": "code",
   "execution_count": 19,
   "metadata": {},
   "outputs": [
    {
     "data": {
      "text/plain": [
       "array([0.60806115, 0.62195969, 0.69075747, 0.58512856, 0.6147427 ])"
      ]
     },
     "execution_count": 19,
     "metadata": {},
     "output_type": "execute_result"
    }
   ],
   "source": [
    "\n",
    "model = OneVsRestClassifier(KNeighborsClassifier(n_neighbors=5))\n",
    "scores = cross_val_score(model, cls_X_train, y_train_multilabel, cv=5, scoring='precision_micro')\n",
    "scores"
   ]
  },
  {
   "cell_type": "code",
   "execution_count": 20,
   "metadata": {},
   "outputs": [
    {
     "data": {
      "text/plain": [
       "array([0.60910354, 0.60076442, 0.61257818, 0.59277276, 0.59318498])"
      ]
     },
     "execution_count": 20,
     "metadata": {},
     "output_type": "execute_result"
    }
   ],
   "source": [
    "model = OneVsRestClassifier(SVC())\n",
    "scores = cross_val_score(model, cls_X_train, y_train_multilabel, cv=5, scoring='precision_micro')\n",
    "scores"
   ]
  },
  {
   "cell_type": "code",
   "execution_count": 21,
   "metadata": {},
   "outputs": [
    {
     "data": {
      "text/plain": [
       "array([0.60910354, 0.60076442, 0.61257818, 0.59277276, 0.59318498])"
      ]
     },
     "execution_count": 21,
     "metadata": {},
     "output_type": "execute_result"
    }
   ],
   "source": [
    "model = OneVsRestClassifier(RandomForestClassifier())\n",
    "scores = cross_val_score(model, cls_X_train, y_train_multilabel, cv=5, scoring='precision_micro')\n",
    "scores"
   ]
  },
  {
   "cell_type": "code",
   "execution_count": 22,
   "metadata": {},
   "outputs": [
    {
     "data": {
      "text/plain": [
       "array([0.60910354, 0.60076442, 0.61257818, 0.59277276, 0.59318498])"
      ]
     },
     "execution_count": 22,
     "metadata": {},
     "output_type": "execute_result"
    }
   ],
   "source": [
    "model = OneVsRestClassifier(xgb.XGBClassifier(random_state=42))\n",
    "scores = cross_val_score(model, cls_X_train, y_train_multilabel, cv=5, scoring='precision_micro')\n",
    "scores\n",
    "\n"
   ]
  },
  {
   "cell_type": "code",
   "execution_count": null,
   "metadata": {},
   "outputs": [],
   "source": []
  },
  {
   "cell_type": "markdown",
   "metadata": {},
   "source": [
    "# KNN GridSearch"
   ]
  },
  {
   "cell_type": "code",
   "execution_count": 24,
   "metadata": {},
   "outputs": [
    {
     "name": "stdout",
     "output_type": "stream",
     "text": [
      "Fitting 5 folds for each of 10 candidates, totalling 50 fits\n",
      "[CV 2/5] END estimator__metric=minkowski, estimator__n_neighbors=7, estimator__weights=uniform;, score=0.622 total time=   1.5s\n",
      "[CV 1/5] END estimator__metric=minkowski, estimator__n_neighbors=7, estimator__weights=uniform;, score=0.609 total time=   1.5s\n",
      "[CV 3/5] END estimator__metric=minkowski, estimator__n_neighbors=7, estimator__weights=uniform;, score=0.691 total time=   1.6s\n",
      "[CV 4/5] END estimator__metric=minkowski, estimator__n_neighbors=7, estimator__weights=uniform;, score=0.585 total time=   1.3s\n",
      "[CV 5/5] END estimator__metric=minkowski, estimator__n_neighbors=7, estimator__weights=uniform;, score=0.615 total time=   1.8s\n",
      "[CV 5/5] END estimator__metric=manhattan, estimator__n_neighbors=11, estimator__weights=uniform;, score=0.615 total time=   9.1s\n",
      "[CV 1/5] END estimator__metric=manhattan, estimator__n_neighbors=11, estimator__weights=uniform;, score=0.609 total time=   9.1s\n",
      "[CV 3/5] END estimator__metric=manhattan, estimator__n_neighbors=11, estimator__weights=uniform;, score=0.691 total time=   9.3s\n",
      "[CV 4/5] END estimator__metric=manhattan, estimator__n_neighbors=11, estimator__weights=uniform;, score=0.585 total time=   9.2s\n",
      "[CV 2/5] END estimator__metric=manhattan, estimator__n_neighbors=11, estimator__weights=uniform;, score=0.622 total time=   9.4s\n",
      "[CV 1/5] END estimator__metric=euclidean, estimator__n_neighbors=7, estimator__weights=distance;, score=0.609 total time=   1.4s\n",
      "[CV 3/5] END estimator__metric=euclidean, estimator__n_neighbors=7, estimator__weights=distance;, score=0.691 total time=   1.5s\n",
      "[CV 1/5] END estimator__metric=manhattan, estimator__n_neighbors=7, estimator__weights=uniform;, score=0.609 total time=   9.3s\n",
      "[CV 2/5] END estimator__metric=euclidean, estimator__n_neighbors=7, estimator__weights=distance;, score=0.622 total time=   1.8s\n",
      "[CV 2/5] END estimator__metric=manhattan, estimator__n_neighbors=7, estimator__weights=uniform;, score=0.622 total time=   9.5s\n",
      "[CV 4/5] END estimator__metric=euclidean, estimator__n_neighbors=7, estimator__weights=distance;, score=0.585 total time=   1.6s\n",
      "[CV 5/5] END estimator__metric=euclidean, estimator__n_neighbors=7, estimator__weights=distance;, score=0.615 total time=   1.8s\n",
      "[CV 1/5] END estimator__metric=minkowski, estimator__n_neighbors=7, estimator__weights=distance;, score=0.609 total time=   1.7s\n",
      "[CV 2/5] END estimator__metric=minkowski, estimator__n_neighbors=7, estimator__weights=distance;, score=0.622 total time=   1.7s\n",
      "[CV 3/5] END estimator__metric=manhattan, estimator__n_neighbors=7, estimator__weights=uniform;, score=0.691 total time=   9.6s\n",
      "[CV 3/5] END estimator__metric=minkowski, estimator__n_neighbors=7, estimator__weights=distance;, score=0.691 total time=   1.7s\n",
      "[CV 4/5] END estimator__metric=minkowski, estimator__n_neighbors=7, estimator__weights=distance;, score=0.585 total time=   1.7s\n",
      "[CV 1/5] END estimator__metric=euclidean, estimator__n_neighbors=13, estimator__weights=uniform;, score=0.608 total time=   1.3s\n",
      "[CV 2/5] END estimator__metric=euclidean, estimator__n_neighbors=13, estimator__weights=uniform;, score=0.622 total time=   1.6s\n",
      "[CV 5/5] END estimator__metric=minkowski, estimator__n_neighbors=7, estimator__weights=distance;, score=0.615 total time=   1.7s\n",
      "[CV 3/5] END estimator__metric=euclidean, estimator__n_neighbors=13, estimator__weights=uniform;, score=0.691 total time=   1.6s\n",
      "[CV 1/5] END estimator__metric=minkowski, estimator__n_neighbors=15, estimator__weights=uniform;, score=0.608 total time=   1.4s\n",
      "[CV 4/5] END estimator__metric=euclidean, estimator__n_neighbors=13, estimator__weights=uniform;, score=0.585 total time=   1.6s\n",
      "[CV 5/5] END estimator__metric=euclidean, estimator__n_neighbors=13, estimator__weights=uniform;, score=0.615 total time=   1.6s\n",
      "[CV 2/5] END estimator__metric=minkowski, estimator__n_neighbors=15, estimator__weights=uniform;, score=0.622 total time=   1.5s\n",
      "[CV 3/5] END estimator__metric=minkowski, estimator__n_neighbors=15, estimator__weights=uniform;, score=0.691 total time=   1.5s\n",
      "[CV 4/5] END estimator__metric=minkowski, estimator__n_neighbors=15, estimator__weights=uniform;, score=0.585 total time=   1.8s\n",
      "[CV 5/5] END estimator__metric=minkowski, estimator__n_neighbors=15, estimator__weights=uniform;, score=0.615 total time=   1.6s\n",
      "[CV 2/5] END estimator__metric=minkowski, estimator__n_neighbors=15, estimator__weights=distance;, score=0.622 total time=   1.5s\n",
      "[CV 1/5] END estimator__metric=minkowski, estimator__n_neighbors=15, estimator__weights=distance;, score=0.608 total time=   1.6s\n",
      "[CV 4/5] END estimator__metric=minkowski, estimator__n_neighbors=15, estimator__weights=distance;, score=0.585 total time=   1.6s\n",
      "[CV 3/5] END estimator__metric=minkowski, estimator__n_neighbors=15, estimator__weights=distance;, score=0.691 total time=   1.7s\n",
      "[CV 5/5] END estimator__metric=minkowski, estimator__n_neighbors=15, estimator__weights=distance;, score=0.615 total time=   1.3s\n",
      "[CV 5/5] END estimator__metric=manhattan, estimator__n_neighbors=7, estimator__weights=uniform;, score=0.615 total time=   9.4s\n",
      "[CV 4/5] END estimator__metric=manhattan, estimator__n_neighbors=7, estimator__weights=uniform;, score=0.585 total time=   9.6s\n",
      "[CV 1/5] END estimator__metric=euclidean, estimator__n_neighbors=13, estimator__weights=distance;, score=0.608 total time=   1.6s\n",
      "[CV 2/5] END estimator__metric=euclidean, estimator__n_neighbors=13, estimator__weights=distance;, score=0.622 total time=   1.6s\n",
      "[CV 3/5] END estimator__metric=euclidean, estimator__n_neighbors=13, estimator__weights=distance;, score=0.691 total time=   1.5s\n",
      "[CV 4/5] END estimator__metric=euclidean, estimator__n_neighbors=13, estimator__weights=distance;, score=0.585 total time=   1.5s\n",
      "[CV 5/5] END estimator__metric=euclidean, estimator__n_neighbors=13, estimator__weights=distance;, score=0.615 total time=   1.2s\n",
      "[CV 2/5] END estimator__metric=manhattan, estimator__n_neighbors=15, estimator__weights=distance;, score=0.622 total time=   8.0s\n",
      "[CV 1/5] END estimator__metric=manhattan, estimator__n_neighbors=15, estimator__weights=distance;, score=0.608 total time=   8.2s\n",
      "[CV 3/5] END estimator__metric=manhattan, estimator__n_neighbors=15, estimator__weights=distance;, score=0.691 total time=   8.2s\n",
      "[CV 5/5] END estimator__metric=manhattan, estimator__n_neighbors=15, estimator__weights=distance;, score=0.615 total time=   8.1s\n",
      "[CV 4/5] END estimator__metric=manhattan, estimator__n_neighbors=15, estimator__weights=distance;, score=0.585 total time=   8.1s\n"
     ]
    },
    {
     "data": {
      "text/plain": [
       "{'estimator__weights': 'uniform',\n",
       " 'estimator__n_neighbors': 11,\n",
       " 'estimator__metric': 'manhattan'}"
      ]
     },
     "execution_count": 24,
     "metadata": {},
     "output_type": "execute_result"
    }
   ],
   "source": [
    "\n",
    "\n",
    "knn_params = {\n",
    "    'estimator__n_neighbors' : [5,7,9,11,13,15],\n",
    "    'estimator__weights' : ['uniform','distance'],\n",
    "    'estimator__metric' : ['minkowski','euclidean','manhattan']}\n",
    "\n",
    "\n",
    "\n",
    "knn_grid = RandomizedSearchCV(estimator=OneVsRestClassifier(KNeighborsClassifier()), param_distributions=knn_params, n_jobs=-1, verbose=3, scoring='precision_micro')\n",
    "knn_grid.fit(X=cls_X_train, y=y_train_multilabel)\n",
    "knn_grid.best_params_"
   ]
  },
  {
   "cell_type": "markdown",
   "metadata": {},
   "source": [
    "# Training KNN with best hyperparameter set"
   ]
  },
  {
   "cell_type": "code",
   "execution_count": 30,
   "metadata": {},
   "outputs": [
    {
     "name": "stderr",
     "output_type": "stream",
     "text": [
      "/var/folders/g9/npfr2mks4118dkv7g8ckgccr0000gn/T/ipykernel_4180/4294341923.py:12: DeprecationWarning: Call to deprecated `word_vec` (Use get_vector instead).\n",
      "  vector = we.word_vec(word)\n",
      "/var/folders/g9/npfr2mks4118dkv7g8ckgccr0000gn/T/ipykernel_4180/4294341923.py:15: DeprecationWarning: Call to deprecated `word_vec` (Use get_vector instead).\n",
      "  vector = we.word_vec(word.lower())\n"
     ]
    },
    {
     "data": {
      "text/html": [
       "<style>#sk-container-id-3 {color: black;}#sk-container-id-3 pre{padding: 0;}#sk-container-id-3 div.sk-toggleable {background-color: white;}#sk-container-id-3 label.sk-toggleable__label {cursor: pointer;display: block;width: 100%;margin-bottom: 0;padding: 0.3em;box-sizing: border-box;text-align: center;}#sk-container-id-3 label.sk-toggleable__label-arrow:before {content: \"▸\";float: left;margin-right: 0.25em;color: #696969;}#sk-container-id-3 label.sk-toggleable__label-arrow:hover:before {color: black;}#sk-container-id-3 div.sk-estimator:hover label.sk-toggleable__label-arrow:before {color: black;}#sk-container-id-3 div.sk-toggleable__content {max-height: 0;max-width: 0;overflow: hidden;text-align: left;background-color: #f0f8ff;}#sk-container-id-3 div.sk-toggleable__content pre {margin: 0.2em;color: black;border-radius: 0.25em;background-color: #f0f8ff;}#sk-container-id-3 input.sk-toggleable__control:checked~div.sk-toggleable__content {max-height: 200px;max-width: 100%;overflow: auto;}#sk-container-id-3 input.sk-toggleable__control:checked~label.sk-toggleable__label-arrow:before {content: \"▾\";}#sk-container-id-3 div.sk-estimator input.sk-toggleable__control:checked~label.sk-toggleable__label {background-color: #d4ebff;}#sk-container-id-3 div.sk-label input.sk-toggleable__control:checked~label.sk-toggleable__label {background-color: #d4ebff;}#sk-container-id-3 input.sk-hidden--visually {border: 0;clip: rect(1px 1px 1px 1px);clip: rect(1px, 1px, 1px, 1px);height: 1px;margin: -1px;overflow: hidden;padding: 0;position: absolute;width: 1px;}#sk-container-id-3 div.sk-estimator {font-family: monospace;background-color: #f0f8ff;border: 1px dotted black;border-radius: 0.25em;box-sizing: border-box;margin-bottom: 0.5em;}#sk-container-id-3 div.sk-estimator:hover {background-color: #d4ebff;}#sk-container-id-3 div.sk-parallel-item::after {content: \"\";width: 100%;border-bottom: 1px solid gray;flex-grow: 1;}#sk-container-id-3 div.sk-label:hover label.sk-toggleable__label {background-color: #d4ebff;}#sk-container-id-3 div.sk-serial::before {content: \"\";position: absolute;border-left: 1px solid gray;box-sizing: border-box;top: 0;bottom: 0;left: 50%;z-index: 0;}#sk-container-id-3 div.sk-serial {display: flex;flex-direction: column;align-items: center;background-color: white;padding-right: 0.2em;padding-left: 0.2em;position: relative;}#sk-container-id-3 div.sk-item {position: relative;z-index: 1;}#sk-container-id-3 div.sk-parallel {display: flex;align-items: stretch;justify-content: center;background-color: white;position: relative;}#sk-container-id-3 div.sk-item::before, #sk-container-id-3 div.sk-parallel-item::before {content: \"\";position: absolute;border-left: 1px solid gray;box-sizing: border-box;top: 0;bottom: 0;left: 50%;z-index: -1;}#sk-container-id-3 div.sk-parallel-item {display: flex;flex-direction: column;z-index: 1;position: relative;background-color: white;}#sk-container-id-3 div.sk-parallel-item:first-child::after {align-self: flex-end;width: 50%;}#sk-container-id-3 div.sk-parallel-item:last-child::after {align-self: flex-start;width: 50%;}#sk-container-id-3 div.sk-parallel-item:only-child::after {width: 0;}#sk-container-id-3 div.sk-dashed-wrapped {border: 1px dashed gray;margin: 0 0.4em 0.5em 0.4em;box-sizing: border-box;padding-bottom: 0.4em;background-color: white;}#sk-container-id-3 div.sk-label label {font-family: monospace;font-weight: bold;display: inline-block;line-height: 1.2em;}#sk-container-id-3 div.sk-label-container {text-align: center;}#sk-container-id-3 div.sk-container {/* jupyter's `normalize.less` sets `[hidden] { display: none; }` but bootstrap.min.css set `[hidden] { display: none !important; }` so we also need the `!important` here to be able to override the default hidden behavior on the sphinx rendered scikit-learn.org. See: https://github.com/scikit-learn/scikit-learn/issues/21755 */display: inline-block !important;position: relative;}#sk-container-id-3 div.sk-text-repr-fallback {display: none;}</style><div id=\"sk-container-id-3\" class=\"sk-top-container\"><div class=\"sk-text-repr-fallback\"><pre>OneVsRestClassifier(estimator=KNeighborsClassifier(metric=&#x27;manhattan&#x27;,\n",
       "                                                   n_neighbors=11))</pre><b>In a Jupyter environment, please rerun this cell to show the HTML representation or trust the notebook. <br />On GitHub, the HTML representation is unable to render, please try loading this page with nbviewer.org.</b></div><div class=\"sk-container\" hidden><div class=\"sk-item sk-dashed-wrapped\"><div class=\"sk-label-container\"><div class=\"sk-label sk-toggleable\"><input class=\"sk-toggleable__control sk-hidden--visually\" id=\"sk-estimator-id-7\" type=\"checkbox\" ><label for=\"sk-estimator-id-7\" class=\"sk-toggleable__label sk-toggleable__label-arrow\">OneVsRestClassifier</label><div class=\"sk-toggleable__content\"><pre>OneVsRestClassifier(estimator=KNeighborsClassifier(metric=&#x27;manhattan&#x27;,\n",
       "                                                   n_neighbors=11))</pre></div></div></div><div class=\"sk-parallel\"><div class=\"sk-parallel-item\"><div class=\"sk-item\"><div class=\"sk-label-container\"><div class=\"sk-label sk-toggleable\"><input class=\"sk-toggleable__control sk-hidden--visually\" id=\"sk-estimator-id-8\" type=\"checkbox\" ><label for=\"sk-estimator-id-8\" class=\"sk-toggleable__label sk-toggleable__label-arrow\">estimator: KNeighborsClassifier</label><div class=\"sk-toggleable__content\"><pre>KNeighborsClassifier(metric=&#x27;manhattan&#x27;, n_neighbors=11)</pre></div></div></div><div class=\"sk-serial\"><div class=\"sk-item\"><div class=\"sk-estimator sk-toggleable\"><input class=\"sk-toggleable__control sk-hidden--visually\" id=\"sk-estimator-id-9\" type=\"checkbox\" ><label for=\"sk-estimator-id-9\" class=\"sk-toggleable__label sk-toggleable__label-arrow\">KNeighborsClassifier</label><div class=\"sk-toggleable__content\"><pre>KNeighborsClassifier(metric=&#x27;manhattan&#x27;, n_neighbors=11)</pre></div></div></div></div></div></div></div></div></div></div>"
      ],
      "text/plain": [
       "OneVsRestClassifier(estimator=KNeighborsClassifier(metric='manhattan',\n",
       "                                                   n_neighbors=11))"
      ]
     },
     "execution_count": 30,
     "metadata": {},
     "output_type": "execute_result"
    }
   ],
   "source": [
    "knn_best_param = {\n",
    "        'weights': 'uniform',\n",
    "        'n_neighbors': 11,\n",
    "        'metric': 'manhattan'}\n",
    "\n",
    "cls_X_train = np.array([vectorize(we=we, word=x)for x in df_train[df_train['Label'] != 'aucun']['Token'] ])\n",
    "cls_y_train = pd.DataFrame.from_dict(getMultiLabel(df_train[df_train['Label'] != 'aucun']))\n",
    "\n",
    "knn = OneVsRestClassifier(KNeighborsClassifier(**knn_best_param))\n",
    "knn.fit(cls_X_train, cls_y_train)"
   ]
  },
  {
   "cell_type": "markdown",
   "metadata": {},
   "source": [
    "### Save model"
   ]
  },
  {
   "cell_type": "code",
   "execution_count": 31,
   "metadata": {},
   "outputs": [
    {
     "data": {
      "text/plain": [
       "['../models/knn.joblib']"
      ]
     },
     "execution_count": 31,
     "metadata": {},
     "output_type": "execute_result"
    }
   ],
   "source": [
    "os.makedirs('../models', exist_ok=True)\n",
    "joblib.dump(knn, '../models/knn.joblib')"
   ]
  },
  {
   "cell_type": "code",
   "execution_count": null,
   "metadata": {},
   "outputs": [],
   "source": []
  },
  {
   "cell_type": "markdown",
   "metadata": {},
   "source": [
    "# XGBoost GridSearch"
   ]
  },
  {
   "cell_type": "code",
   "execution_count": 32,
   "metadata": {},
   "outputs": [
    {
     "name": "stdout",
     "output_type": "stream",
     "text": [
      "Fitting 5 folds for each of 10 candidates, totalling 50 fits\n",
      "[CV 2/5] END estimator__learning_rate=0.1, estimator__max_depth=4, estimator__n_estimators=50, estimator__random_state=42, estimator__subsample=0.5;, score=0.601 total time=   3.1s\n",
      "[CV 1/5] END estimator__learning_rate=0.1, estimator__max_depth=4, estimator__n_estimators=50, estimator__random_state=42, estimator__subsample=0.5;, score=0.609 total time=   3.3s\n",
      "[CV 3/5] END estimator__learning_rate=0.1, estimator__max_depth=4, estimator__n_estimators=50, estimator__random_state=42, estimator__subsample=0.5;, score=0.613 total time=   3.4s\n",
      "[CV 4/5] END estimator__learning_rate=0.1, estimator__max_depth=4, estimator__n_estimators=50, estimator__random_state=42, estimator__subsample=0.5;, score=0.593 total time=   3.6s\n",
      "[CV 5/5] END estimator__learning_rate=0.1, estimator__max_depth=4, estimator__n_estimators=50, estimator__random_state=42, estimator__subsample=0.5;, score=0.593 total time=   3.6s\n",
      "[CV 1/5] END estimator__learning_rate=1.0, estimator__max_depth=5, estimator__n_estimators=150, estimator__random_state=42, estimator__subsample=0.25;, score=0.609 total time=   5.9s\n",
      "[CV 5/5] END estimator__learning_rate=1.0, estimator__max_depth=9, estimator__n_estimators=150, estimator__random_state=42, estimator__subsample=1;, score=0.593 total time=  10.1s\n",
      "[CV 1/5] END estimator__learning_rate=1.0, estimator__max_depth=9, estimator__n_estimators=150, estimator__random_state=42, estimator__subsample=1;, score=0.609 total time=  10.1s\n",
      "[CV 3/5] END estimator__learning_rate=1.0, estimator__max_depth=9, estimator__n_estimators=150, estimator__random_state=42, estimator__subsample=1;, score=0.613 total time=  10.3s\n",
      "[CV 2/5] END estimator__learning_rate=1.0, estimator__max_depth=9, estimator__n_estimators=150, estimator__random_state=42, estimator__subsample=1;, score=0.601 total time=  10.4s\n",
      "[CV 4/5] END estimator__learning_rate=1.0, estimator__max_depth=9, estimator__n_estimators=150, estimator__random_state=42, estimator__subsample=1;, score=0.593 total time=  10.7s\n",
      "[CV 3/5] END estimator__learning_rate=1.0, estimator__max_depth=5, estimator__n_estimators=150, estimator__random_state=42, estimator__subsample=0.25;, score=0.613 total time=   5.8s\n",
      "[CV 2/5] END estimator__learning_rate=1.0, estimator__max_depth=5, estimator__n_estimators=150, estimator__random_state=42, estimator__subsample=0.25;, score=0.601 total time=   6.0s\n",
      "[CV 4/5] END estimator__learning_rate=1.0, estimator__max_depth=5, estimator__n_estimators=150, estimator__random_state=42, estimator__subsample=0.25;, score=0.593 total time=   6.1s\n",
      "[CV 5/5] END estimator__learning_rate=1.0, estimator__max_depth=5, estimator__n_estimators=150, estimator__random_state=42, estimator__subsample=0.25;, score=0.593 total time=   6.1s\n",
      "[CV 3/5] END estimator__learning_rate=0.01, estimator__max_depth=10, estimator__n_estimators=350, estimator__random_state=42, estimator__subsample=0.25;, score=0.613 total time=  13.1s\n",
      "[CV 1/5] END estimator__learning_rate=0.01, estimator__max_depth=10, estimator__n_estimators=350, estimator__random_state=42, estimator__subsample=0.25;, score=0.609 total time=  13.6s\n",
      "[CV 2/5] END estimator__learning_rate=0.01, estimator__max_depth=10, estimator__n_estimators=350, estimator__random_state=42, estimator__subsample=0.25;, score=0.601 total time=  13.8s\n",
      "[CV 4/5] END estimator__learning_rate=0.01, estimator__max_depth=10, estimator__n_estimators=350, estimator__random_state=42, estimator__subsample=0.25;, score=0.593 total time=  13.5s\n",
      "[CV 5/5] END estimator__learning_rate=0.01, estimator__max_depth=10, estimator__n_estimators=350, estimator__random_state=42, estimator__subsample=0.25;, score=0.593 total time=  13.2s\n",
      "[CV 2/5] END estimator__learning_rate=0.0001, estimator__max_depth=9, estimator__n_estimators=100, estimator__random_state=42, estimator__subsample=0.5;, score=0.601 total time=   6.3s\n",
      "[CV 1/5] END estimator__learning_rate=0.0001, estimator__max_depth=9, estimator__n_estimators=100, estimator__random_state=42, estimator__subsample=0.5;, score=0.609 total time=   6.6s\n",
      "[CV 3/5] END estimator__learning_rate=0.0001, estimator__max_depth=9, estimator__n_estimators=100, estimator__random_state=42, estimator__subsample=0.5;, score=0.613 total time=   6.6s\n",
      "[CV 1/5] END estimator__learning_rate=0.001, estimator__max_depth=6, estimator__n_estimators=350, estimator__random_state=42, estimator__subsample=0.5;, score=0.609 total time=  21.3s\n",
      "[CV 4/5] END estimator__learning_rate=0.0001, estimator__max_depth=9, estimator__n_estimators=100, estimator__random_state=42, estimator__subsample=0.5;, score=0.593 total time=   6.6s\n",
      "[CV 2/5] END estimator__learning_rate=0.001, estimator__max_depth=6, estimator__n_estimators=350, estimator__random_state=42, estimator__subsample=0.5;, score=0.601 total time=  21.9s\n",
      "[CV 3/5] END estimator__learning_rate=0.001, estimator__max_depth=6, estimator__n_estimators=350, estimator__random_state=42, estimator__subsample=0.5;, score=0.613 total time=  21.4s\n",
      "[CV 5/5] END estimator__learning_rate=0.0001, estimator__max_depth=9, estimator__n_estimators=100, estimator__random_state=42, estimator__subsample=0.5;, score=0.593 total time=   6.8s\n",
      "[CV 1/5] END estimator__learning_rate=0.0001, estimator__max_depth=8, estimator__n_estimators=100, estimator__random_state=42, estimator__subsample=0.75;, score=0.609 total time=   7.4s\n",
      "[CV 4/5] END estimator__learning_rate=0.001, estimator__max_depth=6, estimator__n_estimators=350, estimator__random_state=42, estimator__subsample=0.5;, score=0.593 total time=  21.8s\n",
      "[CV 5/5] END estimator__learning_rate=0.001, estimator__max_depth=6, estimator__n_estimators=350, estimator__random_state=42, estimator__subsample=0.5;, score=0.593 total time=  22.4s\n",
      "[CV 1/5] END estimator__learning_rate=0.001, estimator__max_depth=7, estimator__n_estimators=350, estimator__random_state=42, estimator__subsample=0.25;, score=0.609 total time=  14.6s\n",
      "[CV 2/5] END estimator__learning_rate=0.001, estimator__max_depth=7, estimator__n_estimators=350, estimator__random_state=42, estimator__subsample=0.25;, score=0.601 total time=  14.6s\n",
      "[CV 3/5] END estimator__learning_rate=0.001, estimator__max_depth=7, estimator__n_estimators=350, estimator__random_state=42, estimator__subsample=0.25;, score=0.613 total time=  14.6s\n",
      "[CV 4/5] END estimator__learning_rate=0.001, estimator__max_depth=7, estimator__n_estimators=350, estimator__random_state=42, estimator__subsample=0.25;, score=0.593 total time=  15.0s\n",
      "[CV 2/5] END estimator__learning_rate=0.0001, estimator__max_depth=8, estimator__n_estimators=100, estimator__random_state=42, estimator__subsample=0.75;, score=0.601 total time=   7.5s\n",
      "[CV 5/5] END estimator__learning_rate=0.001, estimator__max_depth=7, estimator__n_estimators=350, estimator__random_state=42, estimator__subsample=0.25;, score=0.593 total time=  15.0s\n",
      "[CV 3/5] END estimator__learning_rate=0.0001, estimator__max_depth=8, estimator__n_estimators=100, estimator__random_state=42, estimator__subsample=0.75;, score=0.613 total time=   7.8s\n",
      "[CV 4/5] END estimator__learning_rate=0.0001, estimator__max_depth=8, estimator__n_estimators=100, estimator__random_state=42, estimator__subsample=0.75;, score=0.593 total time=   7.6s\n",
      "[CV 5/5] END estimator__learning_rate=0.0001, estimator__max_depth=8, estimator__n_estimators=100, estimator__random_state=42, estimator__subsample=0.75;, score=0.593 total time=   7.7s\n",
      "[CV 1/5] END estimator__learning_rate=0.01, estimator__max_depth=1, estimator__n_estimators=200, estimator__random_state=42, estimator__subsample=0.5;, score=0.609 total time=  16.1s\n",
      "[CV 2/5] END estimator__learning_rate=0.01, estimator__max_depth=1, estimator__n_estimators=200, estimator__random_state=42, estimator__subsample=0.5;, score=0.601 total time=  16.2s\n",
      "[CV 3/5] END estimator__learning_rate=0.01, estimator__max_depth=1, estimator__n_estimators=200, estimator__random_state=42, estimator__subsample=0.5;, score=0.613 total time=  16.2s\n",
      "[CV 1/5] END estimator__learning_rate=0.01, estimator__max_depth=10, estimator__n_estimators=350, estimator__random_state=42, estimator__subsample=0.75;, score=0.609 total time=  28.5s\n",
      "[CV 2/5] END estimator__learning_rate=0.01, estimator__max_depth=10, estimator__n_estimators=350, estimator__random_state=42, estimator__subsample=0.75;, score=0.601 total time=  28.0s\n",
      "[CV 4/5] END estimator__learning_rate=0.01, estimator__max_depth=10, estimator__n_estimators=350, estimator__random_state=42, estimator__subsample=0.75;, score=0.593 total time=  28.1s\n",
      "[CV 3/5] END estimator__learning_rate=0.01, estimator__max_depth=10, estimator__n_estimators=350, estimator__random_state=42, estimator__subsample=0.75;, score=0.613 total time=  28.4s\n",
      "[CV 5/5] END estimator__learning_rate=0.01, estimator__max_depth=10, estimator__n_estimators=350, estimator__random_state=42, estimator__subsample=0.75;, score=0.593 total time=  28.3s\n",
      "[CV 4/5] END estimator__learning_rate=0.01, estimator__max_depth=1, estimator__n_estimators=200, estimator__random_state=42, estimator__subsample=0.5;, score=0.593 total time=  13.0s\n",
      "[CV 5/5] END estimator__learning_rate=0.01, estimator__max_depth=1, estimator__n_estimators=200, estimator__random_state=42, estimator__subsample=0.5;, score=0.593 total time=  12.5s\n"
     ]
    },
    {
     "data": {
      "text/plain": [
       "{'estimator__subsample': 1,\n",
       " 'estimator__random_state': 42,\n",
       " 'estimator__n_estimators': 150,\n",
       " 'estimator__max_depth': 9,\n",
       " 'estimator__learning_rate': 1.0}"
      ]
     },
     "execution_count": 32,
     "metadata": {},
     "output_type": "execute_result"
    }
   ],
   "source": [
    "xgb_params = {\n",
    "    \"estimator__n_estimators\": [50, 100, 150, 200, 350, 500],\n",
    "    \"estimator__max_depth\": [i for i in range(1, 11)],\n",
    "    \"estimator__learning_rate\": [0.0001, 0.001, 0.01, 0.1, 1.0],\n",
    "    \"estimator__subsample\": [.25, .5, .75, 1],\n",
    "    \"estimator__random_state\": [42]\n",
    "\n",
    "}\n",
    "\n",
    "xgb_grid = RandomizedSearchCV(estimator=OneVsRestClassifier(xgb.XGBClassifier(random_state=42)), param_distributions=xgb_params, n_jobs=-1, verbose=3, scoring='precision_micro')\n",
    "xgb_grid.fit(X=cls_X_train, y=y_train_multilabel)\n",
    "xgb_grid.best_params_"
   ]
  },
  {
   "cell_type": "markdown",
   "metadata": {},
   "source": [
    "# Training XGBoost with best hyperparameter set on whole dataset"
   ]
  },
  {
   "cell_type": "code",
   "execution_count": 33,
   "metadata": {},
   "outputs": [
    {
     "name": "stderr",
     "output_type": "stream",
     "text": [
      "/var/folders/g9/npfr2mks4118dkv7g8ckgccr0000gn/T/ipykernel_4180/4294341923.py:12: DeprecationWarning: Call to deprecated `word_vec` (Use get_vector instead).\n",
      "  vector = we.word_vec(word)\n",
      "/var/folders/g9/npfr2mks4118dkv7g8ckgccr0000gn/T/ipykernel_4180/4294341923.py:15: DeprecationWarning: Call to deprecated `word_vec` (Use get_vector instead).\n",
      "  vector = we.word_vec(word.lower())\n"
     ]
    },
    {
     "data": {
      "text/html": [
       "<style>#sk-container-id-4 {color: black;}#sk-container-id-4 pre{padding: 0;}#sk-container-id-4 div.sk-toggleable {background-color: white;}#sk-container-id-4 label.sk-toggleable__label {cursor: pointer;display: block;width: 100%;margin-bottom: 0;padding: 0.3em;box-sizing: border-box;text-align: center;}#sk-container-id-4 label.sk-toggleable__label-arrow:before {content: \"▸\";float: left;margin-right: 0.25em;color: #696969;}#sk-container-id-4 label.sk-toggleable__label-arrow:hover:before {color: black;}#sk-container-id-4 div.sk-estimator:hover label.sk-toggleable__label-arrow:before {color: black;}#sk-container-id-4 div.sk-toggleable__content {max-height: 0;max-width: 0;overflow: hidden;text-align: left;background-color: #f0f8ff;}#sk-container-id-4 div.sk-toggleable__content pre {margin: 0.2em;color: black;border-radius: 0.25em;background-color: #f0f8ff;}#sk-container-id-4 input.sk-toggleable__control:checked~div.sk-toggleable__content {max-height: 200px;max-width: 100%;overflow: auto;}#sk-container-id-4 input.sk-toggleable__control:checked~label.sk-toggleable__label-arrow:before {content: \"▾\";}#sk-container-id-4 div.sk-estimator input.sk-toggleable__control:checked~label.sk-toggleable__label {background-color: #d4ebff;}#sk-container-id-4 div.sk-label input.sk-toggleable__control:checked~label.sk-toggleable__label {background-color: #d4ebff;}#sk-container-id-4 input.sk-hidden--visually {border: 0;clip: rect(1px 1px 1px 1px);clip: rect(1px, 1px, 1px, 1px);height: 1px;margin: -1px;overflow: hidden;padding: 0;position: absolute;width: 1px;}#sk-container-id-4 div.sk-estimator {font-family: monospace;background-color: #f0f8ff;border: 1px dotted black;border-radius: 0.25em;box-sizing: border-box;margin-bottom: 0.5em;}#sk-container-id-4 div.sk-estimator:hover {background-color: #d4ebff;}#sk-container-id-4 div.sk-parallel-item::after {content: \"\";width: 100%;border-bottom: 1px solid gray;flex-grow: 1;}#sk-container-id-4 div.sk-label:hover label.sk-toggleable__label {background-color: #d4ebff;}#sk-container-id-4 div.sk-serial::before {content: \"\";position: absolute;border-left: 1px solid gray;box-sizing: border-box;top: 0;bottom: 0;left: 50%;z-index: 0;}#sk-container-id-4 div.sk-serial {display: flex;flex-direction: column;align-items: center;background-color: white;padding-right: 0.2em;padding-left: 0.2em;position: relative;}#sk-container-id-4 div.sk-item {position: relative;z-index: 1;}#sk-container-id-4 div.sk-parallel {display: flex;align-items: stretch;justify-content: center;background-color: white;position: relative;}#sk-container-id-4 div.sk-item::before, #sk-container-id-4 div.sk-parallel-item::before {content: \"\";position: absolute;border-left: 1px solid gray;box-sizing: border-box;top: 0;bottom: 0;left: 50%;z-index: -1;}#sk-container-id-4 div.sk-parallel-item {display: flex;flex-direction: column;z-index: 1;position: relative;background-color: white;}#sk-container-id-4 div.sk-parallel-item:first-child::after {align-self: flex-end;width: 50%;}#sk-container-id-4 div.sk-parallel-item:last-child::after {align-self: flex-start;width: 50%;}#sk-container-id-4 div.sk-parallel-item:only-child::after {width: 0;}#sk-container-id-4 div.sk-dashed-wrapped {border: 1px dashed gray;margin: 0 0.4em 0.5em 0.4em;box-sizing: border-box;padding-bottom: 0.4em;background-color: white;}#sk-container-id-4 div.sk-label label {font-family: monospace;font-weight: bold;display: inline-block;line-height: 1.2em;}#sk-container-id-4 div.sk-label-container {text-align: center;}#sk-container-id-4 div.sk-container {/* jupyter's `normalize.less` sets `[hidden] { display: none; }` but bootstrap.min.css set `[hidden] { display: none !important; }` so we also need the `!important` here to be able to override the default hidden behavior on the sphinx rendered scikit-learn.org. See: https://github.com/scikit-learn/scikit-learn/issues/21755 */display: inline-block !important;position: relative;}#sk-container-id-4 div.sk-text-repr-fallback {display: none;}</style><div id=\"sk-container-id-4\" class=\"sk-top-container\"><div class=\"sk-text-repr-fallback\"><pre>OneVsRestClassifier(estimator=XGBClassifier(base_score=None, booster=None,\n",
       "                                            callbacks=None,\n",
       "                                            colsample_bylevel=None,\n",
       "                                            colsample_bynode=None,\n",
       "                                            colsample_bytree=None,\n",
       "                                            early_stopping_rounds=None,\n",
       "                                            enable_categorical=False,\n",
       "                                            eval_metric=None,\n",
       "                                            feature_types=None, gamma=None,\n",
       "                                            gpu_id=None, grow_policy=None,\n",
       "                                            importance_type=None,\n",
       "                                            interaction_constraints=None,\n",
       "                                            learning_rate=1.0, max_bin=None,\n",
       "                                            max_cat_threshold=None,\n",
       "                                            max_cat_to_onehot=None,\n",
       "                                            max_delta_step=None, max_depth=9,\n",
       "                                            max_leaves=None,\n",
       "                                            min_child_weight=None, missing=nan,\n",
       "                                            monotone_constraints=None,\n",
       "                                            n_estimators=150, n_jobs=None,\n",
       "                                            num_parallel_tree=None,\n",
       "                                            predictor=None, random_state=42, ...))</pre><b>In a Jupyter environment, please rerun this cell to show the HTML representation or trust the notebook. <br />On GitHub, the HTML representation is unable to render, please try loading this page with nbviewer.org.</b></div><div class=\"sk-container\" hidden><div class=\"sk-item sk-dashed-wrapped\"><div class=\"sk-label-container\"><div class=\"sk-label sk-toggleable\"><input class=\"sk-toggleable__control sk-hidden--visually\" id=\"sk-estimator-id-10\" type=\"checkbox\" ><label for=\"sk-estimator-id-10\" class=\"sk-toggleable__label sk-toggleable__label-arrow\">OneVsRestClassifier</label><div class=\"sk-toggleable__content\"><pre>OneVsRestClassifier(estimator=XGBClassifier(base_score=None, booster=None,\n",
       "                                            callbacks=None,\n",
       "                                            colsample_bylevel=None,\n",
       "                                            colsample_bynode=None,\n",
       "                                            colsample_bytree=None,\n",
       "                                            early_stopping_rounds=None,\n",
       "                                            enable_categorical=False,\n",
       "                                            eval_metric=None,\n",
       "                                            feature_types=None, gamma=None,\n",
       "                                            gpu_id=None, grow_policy=None,\n",
       "                                            importance_type=None,\n",
       "                                            interaction_constraints=None,\n",
       "                                            learning_rate=1.0, max_bin=None,\n",
       "                                            max_cat_threshold=None,\n",
       "                                            max_cat_to_onehot=None,\n",
       "                                            max_delta_step=None, max_depth=9,\n",
       "                                            max_leaves=None,\n",
       "                                            min_child_weight=None, missing=nan,\n",
       "                                            monotone_constraints=None,\n",
       "                                            n_estimators=150, n_jobs=None,\n",
       "                                            num_parallel_tree=None,\n",
       "                                            predictor=None, random_state=42, ...))</pre></div></div></div><div class=\"sk-parallel\"><div class=\"sk-parallel-item\"><div class=\"sk-item\"><div class=\"sk-label-container\"><div class=\"sk-label sk-toggleable\"><input class=\"sk-toggleable__control sk-hidden--visually\" id=\"sk-estimator-id-11\" type=\"checkbox\" ><label for=\"sk-estimator-id-11\" class=\"sk-toggleable__label sk-toggleable__label-arrow\">estimator: XGBClassifier</label><div class=\"sk-toggleable__content\"><pre>XGBClassifier(base_score=None, booster=None, callbacks=None,\n",
       "              colsample_bylevel=None, colsample_bynode=None,\n",
       "              colsample_bytree=None, early_stopping_rounds=None,\n",
       "              enable_categorical=False, eval_metric=None, feature_types=None,\n",
       "              gamma=None, gpu_id=None, grow_policy=None, importance_type=None,\n",
       "              interaction_constraints=None, learning_rate=1.0, max_bin=None,\n",
       "              max_cat_threshold=None, max_cat_to_onehot=None,\n",
       "              max_delta_step=None, max_depth=9, max_leaves=None,\n",
       "              min_child_weight=None, missing=nan, monotone_constraints=None,\n",
       "              n_estimators=150, n_jobs=None, num_parallel_tree=None,\n",
       "              predictor=None, random_state=42, ...)</pre></div></div></div><div class=\"sk-serial\"><div class=\"sk-item\"><div class=\"sk-estimator sk-toggleable\"><input class=\"sk-toggleable__control sk-hidden--visually\" id=\"sk-estimator-id-12\" type=\"checkbox\" ><label for=\"sk-estimator-id-12\" class=\"sk-toggleable__label sk-toggleable__label-arrow\">XGBClassifier</label><div class=\"sk-toggleable__content\"><pre>XGBClassifier(base_score=None, booster=None, callbacks=None,\n",
       "              colsample_bylevel=None, colsample_bynode=None,\n",
       "              colsample_bytree=None, early_stopping_rounds=None,\n",
       "              enable_categorical=False, eval_metric=None, feature_types=None,\n",
       "              gamma=None, gpu_id=None, grow_policy=None, importance_type=None,\n",
       "              interaction_constraints=None, learning_rate=1.0, max_bin=None,\n",
       "              max_cat_threshold=None, max_cat_to_onehot=None,\n",
       "              max_delta_step=None, max_depth=9, max_leaves=None,\n",
       "              min_child_weight=None, missing=nan, monotone_constraints=None,\n",
       "              n_estimators=150, n_jobs=None, num_parallel_tree=None,\n",
       "              predictor=None, random_state=42, ...)</pre></div></div></div></div></div></div></div></div></div></div>"
      ],
      "text/plain": [
       "OneVsRestClassifier(estimator=XGBClassifier(base_score=None, booster=None,\n",
       "                                            callbacks=None,\n",
       "                                            colsample_bylevel=None,\n",
       "                                            colsample_bynode=None,\n",
       "                                            colsample_bytree=None,\n",
       "                                            early_stopping_rounds=None,\n",
       "                                            enable_categorical=False,\n",
       "                                            eval_metric=None,\n",
       "                                            feature_types=None, gamma=None,\n",
       "                                            gpu_id=None, grow_policy=None,\n",
       "                                            importance_type=None,\n",
       "                                            interaction_constraints=None,\n",
       "                                            learning_rate=1.0, max_bin=None,\n",
       "                                            max_cat_threshold=None,\n",
       "                                            max_cat_to_onehot=None,\n",
       "                                            max_delta_step=None, max_depth=9,\n",
       "                                            max_leaves=None,\n",
       "                                            min_child_weight=None, missing=nan,\n",
       "                                            monotone_constraints=None,\n",
       "                                            n_estimators=150, n_jobs=None,\n",
       "                                            num_parallel_tree=None,\n",
       "                                            predictor=None, random_state=42, ...))"
      ]
     },
     "execution_count": 33,
     "metadata": {},
     "output_type": "execute_result"
    }
   ],
   "source": [
    "xgb_boost_best_param = {\n",
    "        'subsample': 1,\n",
    "        'random_state': 42,\n",
    "        'n_estimators': 150,\n",
    "        'max_depth': 9,\n",
    "        'learning_rate': 1.0,\n",
    "   }\n",
    "\n",
    "cls_X_train = np.array([vectorize(we=we, word=x)for x in df_train[df_train['Label'] != 'aucun']['Token'] ])\n",
    "cls_y_train = pd.DataFrame.from_dict(getMultiLabel(df_train[df_train['Label'] != 'aucun']))\n",
    "\n",
    "xgboost = OneVsRestClassifier(xgb.XGBClassifier(**xgb_boost_best_param))\n",
    "xgboost.fit(cls_X_train, cls_y_train)"
   ]
  },
  {
   "cell_type": "markdown",
   "metadata": {},
   "source": [
    "### Save model"
   ]
  },
  {
   "cell_type": "code",
   "execution_count": 34,
   "metadata": {},
   "outputs": [
    {
     "data": {
      "text/plain": [
       "['../models/xgboost.joblib']"
      ]
     },
     "execution_count": 34,
     "metadata": {},
     "output_type": "execute_result"
    }
   ],
   "source": [
    "os.makedirs('../models', exist_ok=True)\n",
    "joblib.dump(xgboost, '../models/xgboost.joblib')"
   ]
  },
  {
   "cell_type": "code",
   "execution_count": null,
   "metadata": {},
   "outputs": [],
   "source": []
  }
 ],
 "metadata": {
  "kernelspec": {
   "display_name": "textmine",
   "language": "python",
   "name": "python3"
  },
  "language_info": {
   "codemirror_mode": {
    "name": "ipython",
    "version": 3
   },
   "file_extension": ".py",
   "mimetype": "text/x-python",
   "name": "python",
   "nbconvert_exporter": "python",
   "pygments_lexer": "ipython3",
   "version": "3.11.4"
  },
  "orig_nbformat": 4
 },
 "nbformat": 4,
 "nbformat_minor": 2
}
