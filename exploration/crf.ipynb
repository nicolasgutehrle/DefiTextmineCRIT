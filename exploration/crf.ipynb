{
 "cells": [
  {
   "cell_type": "markdown",
   "metadata": {},
   "source": [
    "# CRF Classifier\n",
    "\n",
    "To extract NER candidates"
   ]
  },
  {
   "cell_type": "code",
   "execution_count": 1,
   "metadata": {},
   "outputs": [],
   "source": [
    "import pandas as pd\n",
    "import numpy as np\n",
    "import spacy \n",
    "import string\n",
    "\n",
    "from sklearn.metrics import f1_score\n",
    "\n",
    "import os\n",
    "import joblib \n",
    "\n",
    "from typing import List\n",
    "\n",
    "import sklearn_crfsuite\n",
    "from sklearn_crfsuite import metrics\n",
    "from sklearn.model_selection import train_test_split, cross_val_score, RandomizedSearchCV\n"
   ]
  },
  {
   "cell_type": "code",
   "execution_count": 2,
   "metadata": {},
   "outputs": [],
   "source": [
    "nlp = spacy.load('fr_core_news_lg')"
   ]
  },
  {
   "cell_type": "code",
   "execution_count": 3,
   "metadata": {},
   "outputs": [],
   "source": [
    "df_train = pd.read_csv('../data/train_2.csv')\n",
    "df_test = pd.read_csv('../data/test.csv')\n",
    "# df_sample = pd.read_csv('../data/sample_submission_2.csv')"
   ]
  },
  {
   "cell_type": "code",
   "execution_count": 4,
   "metadata": {},
   "outputs": [],
   "source": [
    "def cleanData(data:pd.DataFrame) -> None:\n",
    "    \"\"\"Simple function to clean Tokens\n",
    "\n",
    "    :param data: DataFrame containing the data\n",
    "    :type data: pd.DataFrame\n",
    "    \"\"\"\n",
    "\n",
    "    data['Token'] = data['Token'].str.replace('\"', '')\n",
    "\n",
    "# need to clean Token column because each token is surrounded by quotes, which will cause issues later\n",
    "cleanData(df_train)\n"
   ]
  },
  {
   "cell_type": "code",
   "execution_count": 5,
   "metadata": {},
   "outputs": [
    {
     "data": {
      "text/html": [
       "<div>\n",
       "<style scoped>\n",
       "    .dataframe tbody tr th:only-of-type {\n",
       "        vertical-align: middle;\n",
       "    }\n",
       "\n",
       "    .dataframe tbody tr th {\n",
       "        vertical-align: top;\n",
       "    }\n",
       "\n",
       "    .dataframe thead th {\n",
       "        text-align: right;\n",
       "    }\n",
       "</style>\n",
       "<table border=\"1\" class=\"dataframe\">\n",
       "  <thead>\n",
       "    <tr style=\"text-align: right;\">\n",
       "      <th></th>\n",
       "      <th>Id</th>\n",
       "      <th>Token</th>\n",
       "      <th>Label</th>\n",
       "      <th>lower</th>\n",
       "      <th>isdigit</th>\n",
       "      <th>isupper</th>\n",
       "      <th>ispunct</th>\n",
       "      <th>isstop</th>\n",
       "      <th>len</th>\n",
       "      <th>shape</th>\n",
       "    </tr>\n",
       "  </thead>\n",
       "  <tbody>\n",
       "    <tr>\n",
       "      <th>0</th>\n",
       "      <td>0</td>\n",
       "      <td>01</td>\n",
       "      <td>aucun</td>\n",
       "      <td>01</td>\n",
       "      <td>True</td>\n",
       "      <td>False</td>\n",
       "      <td>False</td>\n",
       "      <td>False</td>\n",
       "      <td>2</td>\n",
       "      <td>xx</td>\n",
       "    </tr>\n",
       "    <tr>\n",
       "      <th>1</th>\n",
       "      <td>1</td>\n",
       "      <td>4.5.3</td>\n",
       "      <td>aucun</td>\n",
       "      <td>4.5.3</td>\n",
       "      <td>False</td>\n",
       "      <td>False</td>\n",
       "      <td>False</td>\n",
       "      <td>False</td>\n",
       "      <td>5</td>\n",
       "      <td>xxxxx</td>\n",
       "    </tr>\n",
       "    <tr>\n",
       "      <th>2</th>\n",
       "      <td>2</td>\n",
       "      <td>.</td>\n",
       "      <td>aucun</td>\n",
       "      <td>.</td>\n",
       "      <td>False</td>\n",
       "      <td>False</td>\n",
       "      <td>True</td>\n",
       "      <td>False</td>\n",
       "      <td>1</td>\n",
       "      <td>x</td>\n",
       "    </tr>\n",
       "    <tr>\n",
       "      <th>3</th>\n",
       "      <td>3</td>\n",
       "      <td>Port</td>\n",
       "      <td>geogFeat geogName</td>\n",
       "      <td>port</td>\n",
       "      <td>False</td>\n",
       "      <td>False</td>\n",
       "      <td>False</td>\n",
       "      <td>False</td>\n",
       "      <td>4</td>\n",
       "      <td>Xxxx</td>\n",
       "    </tr>\n",
       "    <tr>\n",
       "      <th>4</th>\n",
       "      <td>4</td>\n",
       "      <td>du</td>\n",
       "      <td>geogName</td>\n",
       "      <td>du</td>\n",
       "      <td>False</td>\n",
       "      <td>False</td>\n",
       "      <td>False</td>\n",
       "      <td>True</td>\n",
       "      <td>2</td>\n",
       "      <td>xx</td>\n",
       "    </tr>\n",
       "    <tr>\n",
       "      <th>...</th>\n",
       "      <td>...</td>\n",
       "      <td>...</td>\n",
       "      <td>...</td>\n",
       "      <td>...</td>\n",
       "      <td>...</td>\n",
       "      <td>...</td>\n",
       "      <td>...</td>\n",
       "      <td>...</td>\n",
       "      <td>...</td>\n",
       "      <td>...</td>\n",
       "    </tr>\n",
       "    <tr>\n",
       "      <th>39852</th>\n",
       "      <td>39852</td>\n",
       "      <td>portée</td>\n",
       "      <td>aucun</td>\n",
       "      <td>portée</td>\n",
       "      <td>False</td>\n",
       "      <td>False</td>\n",
       "      <td>False</td>\n",
       "      <td>False</td>\n",
       "      <td>6</td>\n",
       "      <td>xxxxxx</td>\n",
       "    </tr>\n",
       "    <tr>\n",
       "      <th>39853</th>\n",
       "      <td>39853</td>\n",
       "      <td>sur</td>\n",
       "      <td>aucun</td>\n",
       "      <td>sur</td>\n",
       "      <td>False</td>\n",
       "      <td>False</td>\n",
       "      <td>False</td>\n",
       "      <td>True</td>\n",
       "      <td>3</td>\n",
       "      <td>xxx</td>\n",
       "    </tr>\n",
       "    <tr>\n",
       "      <th>39854</th>\n",
       "      <td>39854</td>\n",
       "      <td>les</td>\n",
       "      <td>aucun</td>\n",
       "      <td>les</td>\n",
       "      <td>False</td>\n",
       "      <td>False</td>\n",
       "      <td>False</td>\n",
       "      <td>True</td>\n",
       "      <td>3</td>\n",
       "      <td>xxx</td>\n",
       "    </tr>\n",
       "    <tr>\n",
       "      <th>39855</th>\n",
       "      <td>39855</td>\n",
       "      <td>cartes</td>\n",
       "      <td>aucun</td>\n",
       "      <td>cartes</td>\n",
       "      <td>False</td>\n",
       "      <td>False</td>\n",
       "      <td>False</td>\n",
       "      <td>False</td>\n",
       "      <td>6</td>\n",
       "      <td>xxxxxx</td>\n",
       "    </tr>\n",
       "    <tr>\n",
       "      <th>39856</th>\n",
       "      <td>39856</td>\n",
       "      <td>.</td>\n",
       "      <td>aucun</td>\n",
       "      <td>.</td>\n",
       "      <td>False</td>\n",
       "      <td>False</td>\n",
       "      <td>True</td>\n",
       "      <td>False</td>\n",
       "      <td>1</td>\n",
       "      <td>x</td>\n",
       "    </tr>\n",
       "  </tbody>\n",
       "</table>\n",
       "<p>39857 rows × 10 columns</p>\n",
       "</div>"
      ],
      "text/plain": [
       "          Id   Token              Label   lower  isdigit  isupper  ispunct  \\\n",
       "0          0      01              aucun      01     True    False    False   \n",
       "1          1   4.5.3              aucun   4.5.3    False    False    False   \n",
       "2          2       .              aucun       .    False    False     True   \n",
       "3          3    Port  geogFeat geogName    port    False    False    False   \n",
       "4          4      du           geogName      du    False    False    False   \n",
       "...      ...     ...                ...     ...      ...      ...      ...   \n",
       "39852  39852  portée              aucun  portée    False    False    False   \n",
       "39853  39853     sur              aucun     sur    False    False    False   \n",
       "39854  39854     les              aucun     les    False    False    False   \n",
       "39855  39855  cartes              aucun  cartes    False    False    False   \n",
       "39856  39856       .              aucun       .    False    False     True   \n",
       "\n",
       "       isstop  len   shape  \n",
       "0       False    2      xx  \n",
       "1       False    5   xxxxx  \n",
       "2       False    1       x  \n",
       "3       False    4    Xxxx  \n",
       "4        True    2      xx  \n",
       "...       ...  ...     ...  \n",
       "39852   False    6  xxxxxx  \n",
       "39853    True    3     xxx  \n",
       "39854    True    3     xxx  \n",
       "39855   False    6  xxxxxx  \n",
       "39856   False    1       x  \n",
       "\n",
       "[39857 rows x 10 columns]"
      ]
     },
     "execution_count": 5,
     "metadata": {},
     "output_type": "execute_result"
    }
   ],
   "source": [
    "def getStringShape(string:str) -> str:\n",
    "    \"\"\"Get the shape of the string as either X for capital letters and x for normal letters\n",
    "\n",
    "    :param string: String to get the shape of\n",
    "    :type string: str\n",
    "    :return: Shape of the string (e.g. Port: Xxxx)\n",
    "    :rtype: str\n",
    "    \"\"\"\n",
    "    shape = ['X' if x.isupper() else 'x' for x in string]\n",
    "    return ''.join(shape)\n",
    "    \n",
    "def extractFeatures(data:pd.DataFrame)->None:\n",
    "    \"\"\"\n",
    "    Extract features from Token column of the dataframe\n",
    "\n",
    "    :param data: DataFrame contianing the data\n",
    "    :type data: pd.DataFrame\n",
    "    \"\"\"\n",
    "    data['lower'] = [x.lower() for x in data['Token']]\n",
    "    data['isdigit'] = [x.isdigit() for x in data['Token']]\n",
    "    data['isupper'] = [x.isupper() for x in data['Token']]\n",
    "    data['ispunct'] = [x in string.punctuation for x in data['Token']]\n",
    "    data['isstop'] = [x in nlp.Defaults.stop_words for x in data['Token']]\n",
    "    data['len'] = [len(x) for x in data['Token']]\n",
    "    data['shape'] = [getStringShape(x) for x in data['Token']]\n",
    "\n",
    "extractFeatures(df_train)\n",
    "df_train"
   ]
  },
  {
   "cell_type": "code",
   "execution_count": 17,
   "metadata": {},
   "outputs": [],
   "source": [
    "def prepareDatasetFeatures(data:pd.DataFrame, i:int, window:int) -> dict:\n",
    "    \"\"\"Process the features of a token extracted with extractFeatures and\n",
    "    prepares them in the format required by sklearn_crfsuite\n",
    "    Note: this functions takes a lot of time somehow, so it probably needs to be\n",
    "    refactored.\n",
    "\n",
    "    :param data: DataFrame containing the token and their features\n",
    "    :type data: pd.DataFrame\n",
    "    :param i: index of the token\n",
    "    :type i: int\n",
    "    :return: Dictionary where keys are the name of the feature, and values are the features\n",
    "    :rtype: dict\n",
    "    \"\"\"\n",
    "    # columns to ignore in DataFrame\n",
    "    ignore_col = ['Id', 'Label']\n",
    "\n",
    "    data = data[[x for x in data.columns if x not in ignore_col]]\n",
    "    # get row associated with this token / index\n",
    "    word_data = data.loc[i]\n",
    "    feature_dict = word_data.to_dict()\n",
    "\n",
    "    # extract features of preceding token (except if the current token is the first)\n",
    "    # if i != 0:\n",
    "    #     for j in range(i - window, i):\n",
    "    #         if j >= 0:\n",
    "    #             prev_word_data = data.loc[j]\n",
    "    #             for k, v in prev_word_data.to_dict().items():\n",
    "    #                 feature_dict[f\"prev_{j}_{k}\"] = v\n",
    "\n",
    "    # extract features of next tokens (except if the current token is the last)\n",
    "    # if i != len(data) - 1:\n",
    "    #     # print(i)\n",
    "    #     for j in range(i + 1, i + window + 1):\n",
    "    #         # print('j', j)\n",
    "    #         if j <= len(data) -  1:\n",
    "    #             next_word_data = data.loc[j]\n",
    "    #             for k, v in next_word_data.to_dict().items():\n",
    "    #                 feature_dict[f\"next_{j}_{k}\"] = v\n",
    "\n",
    "\n",
    "    # extract features of preceding token (except if the current token is the first)\n",
    "    if i != 0:\n",
    "        prev_word_data = data.loc[i - 1]\n",
    "        for k, v in prev_word_data.to_dict().items():\n",
    "            feature_dict[f\"prev_{k}\"] = v\n",
    "\n",
    "    # extract features of next token (except if the current token is the last)\n",
    "    if i != len(data) - 1:\n",
    "        next_word_data = data.loc[i + 1]\n",
    "        for k, v in next_word_data.to_dict().items():\n",
    "            feature_dict[f\"next_{k}\"] = v\n",
    "            \n",
    "    return feature_dict"
   ]
  },
  {
   "cell_type": "code",
   "execution_count": 18,
   "metadata": {},
   "outputs": [
    {
     "data": {
      "text/plain": [
       "((39857,), (39857,))"
      ]
     },
     "execution_count": 18,
     "metadata": {},
     "output_type": "execute_result"
    }
   ],
   "source": [
    "window = 1\n",
    "X_train = np.array([prepareDatasetFeatures(data=df_train, i=i, window = window) for i in df_train.index])\n",
    "y_train = df_train['Label'].values\n",
    "X_train.shape, y_train.shape"
   ]
  },
  {
   "cell_type": "code",
   "execution_count": 19,
   "metadata": {},
   "outputs": [
    {
     "data": {
      "text/plain": [
       "{'Token': '01',\n",
       " 'lower': '01',\n",
       " 'isdigit': True,\n",
       " 'isupper': False,\n",
       " 'ispunct': False,\n",
       " 'isstop': False,\n",
       " 'len': 2,\n",
       " 'shape': 'xx',\n",
       " 'next_Token': '4.5.3',\n",
       " 'next_lower': '4.5.3',\n",
       " 'next_isdigit': False,\n",
       " 'next_isupper': False,\n",
       " 'next_ispunct': False,\n",
       " 'next_isstop': False,\n",
       " 'next_len': 5,\n",
       " 'next_shape': 'xxxxx'}"
      ]
     },
     "execution_count": 19,
     "metadata": {},
     "output_type": "execute_result"
    }
   ],
   "source": [
    "X_train[0]"
   ]
  },
  {
   "cell_type": "markdown",
   "metadata": {},
   "source": [
    "# CRF Grid Search"
   ]
  },
  {
   "cell_type": "code",
   "execution_count": 20,
   "metadata": {},
   "outputs": [
    {
     "data": {
      "text/plain": [
       "((27899,), (5979,), (27899,), (5979,), (5979,), (5979,))"
      ]
     },
     "execution_count": 20,
     "metadata": {},
     "output_type": "execute_result"
    }
   ],
   "source": [
    "X_train, X_dev, y_train, y_dev = train_test_split(X_train, y_train, train_size=.7, random_state=42)\n",
    "X_dev, X_test, y_dev, y_test = train_test_split(X_dev, y_dev, train_size=.5, random_state=42)\n",
    "\n",
    "X_train.shape, X_dev.shape, y_train.shape, y_dev.shape, X_test.shape, y_test.shape"
   ]
  },
  {
   "cell_type": "code",
   "execution_count": 21,
   "metadata": {},
   "outputs": [],
   "source": [
    "\n",
    "# I had errors while trying RandomizedSearchCV, so I had to implement something a bit similar\n",
    "\n",
    "c1 = [0.5, 0.1, 0.01, 0.001, 0.0001]\n",
    "c2 = [0.5, 0.1, 0.01, 0.001, 0.0001]\n",
    "\n",
    "param_space = []\n",
    "\n",
    "# generates parameters combinations\n",
    "for i in range(len(c1)):\n",
    "    for j in range(len(c2)):\n",
    "        param_space.append((c1[i], c2[j]))\n",
    "\n",
    "# trains models for each possible combination of paramaters\n",
    "crf_models = []\n",
    "for param in param_space:\n",
    "    tmp_crf = sklearn_crfsuite.CRF(\n",
    "        algorithm='lbfgs',\n",
    "        c1=param[0],\n",
    "        c2=param[1],\n",
    "        # max_iterations=500,\n",
    "        all_possible_transitions=True\n",
    "    )\n",
    "    tmp_crf.fit([X_train], [y_train])\n",
    "    crf_models.append(tmp_crf)\n",
    "\n",
    "\n"
   ]
  },
  {
   "cell_type": "code",
   "execution_count": 23,
   "metadata": {},
   "outputs": [
    {
     "name": "stdout",
     "output_type": "stream",
     "text": [
      "Best param: (0.001, 0.1)\n"
     ]
    }
   ],
   "source": [
    "\n",
    "crf_scores = []\n",
    "for x in crf_models:\n",
    "    y_pred = x.predict([X_dev])\n",
    "    # score = f1_score(y_dev, y_pred[0], average='micro')\n",
    "    score = sklearn_crfsuite.metrics.flat_accuracy_score([y_dev], y_pred)\n",
    "    # print(x.score(, [y_dev]))\n",
    "    crf_scores.append(score)\n",
    "\n",
    "print('Best param:', param_space[np.argmax(crf_scores)])"
   ]
  },
  {
   "cell_type": "markdown",
   "metadata": {},
   "source": [
    "# Training CRF model with best parameters on whole dataset"
   ]
  },
  {
   "cell_type": "code",
   "execution_count": 25,
   "metadata": {},
   "outputs": [
    {
     "data": {
      "text/html": [
       "<style>#sk-container-id-1 {color: black;}#sk-container-id-1 pre{padding: 0;}#sk-container-id-1 div.sk-toggleable {background-color: white;}#sk-container-id-1 label.sk-toggleable__label {cursor: pointer;display: block;width: 100%;margin-bottom: 0;padding: 0.3em;box-sizing: border-box;text-align: center;}#sk-container-id-1 label.sk-toggleable__label-arrow:before {content: \"▸\";float: left;margin-right: 0.25em;color: #696969;}#sk-container-id-1 label.sk-toggleable__label-arrow:hover:before {color: black;}#sk-container-id-1 div.sk-estimator:hover label.sk-toggleable__label-arrow:before {color: black;}#sk-container-id-1 div.sk-toggleable__content {max-height: 0;max-width: 0;overflow: hidden;text-align: left;background-color: #f0f8ff;}#sk-container-id-1 div.sk-toggleable__content pre {margin: 0.2em;color: black;border-radius: 0.25em;background-color: #f0f8ff;}#sk-container-id-1 input.sk-toggleable__control:checked~div.sk-toggleable__content {max-height: 200px;max-width: 100%;overflow: auto;}#sk-container-id-1 input.sk-toggleable__control:checked~label.sk-toggleable__label-arrow:before {content: \"▾\";}#sk-container-id-1 div.sk-estimator input.sk-toggleable__control:checked~label.sk-toggleable__label {background-color: #d4ebff;}#sk-container-id-1 div.sk-label input.sk-toggleable__control:checked~label.sk-toggleable__label {background-color: #d4ebff;}#sk-container-id-1 input.sk-hidden--visually {border: 0;clip: rect(1px 1px 1px 1px);clip: rect(1px, 1px, 1px, 1px);height: 1px;margin: -1px;overflow: hidden;padding: 0;position: absolute;width: 1px;}#sk-container-id-1 div.sk-estimator {font-family: monospace;background-color: #f0f8ff;border: 1px dotted black;border-radius: 0.25em;box-sizing: border-box;margin-bottom: 0.5em;}#sk-container-id-1 div.sk-estimator:hover {background-color: #d4ebff;}#sk-container-id-1 div.sk-parallel-item::after {content: \"\";width: 100%;border-bottom: 1px solid gray;flex-grow: 1;}#sk-container-id-1 div.sk-label:hover label.sk-toggleable__label {background-color: #d4ebff;}#sk-container-id-1 div.sk-serial::before {content: \"\";position: absolute;border-left: 1px solid gray;box-sizing: border-box;top: 0;bottom: 0;left: 50%;z-index: 0;}#sk-container-id-1 div.sk-serial {display: flex;flex-direction: column;align-items: center;background-color: white;padding-right: 0.2em;padding-left: 0.2em;position: relative;}#sk-container-id-1 div.sk-item {position: relative;z-index: 1;}#sk-container-id-1 div.sk-parallel {display: flex;align-items: stretch;justify-content: center;background-color: white;position: relative;}#sk-container-id-1 div.sk-item::before, #sk-container-id-1 div.sk-parallel-item::before {content: \"\";position: absolute;border-left: 1px solid gray;box-sizing: border-box;top: 0;bottom: 0;left: 50%;z-index: -1;}#sk-container-id-1 div.sk-parallel-item {display: flex;flex-direction: column;z-index: 1;position: relative;background-color: white;}#sk-container-id-1 div.sk-parallel-item:first-child::after {align-self: flex-end;width: 50%;}#sk-container-id-1 div.sk-parallel-item:last-child::after {align-self: flex-start;width: 50%;}#sk-container-id-1 div.sk-parallel-item:only-child::after {width: 0;}#sk-container-id-1 div.sk-dashed-wrapped {border: 1px dashed gray;margin: 0 0.4em 0.5em 0.4em;box-sizing: border-box;padding-bottom: 0.4em;background-color: white;}#sk-container-id-1 div.sk-label label {font-family: monospace;font-weight: bold;display: inline-block;line-height: 1.2em;}#sk-container-id-1 div.sk-label-container {text-align: center;}#sk-container-id-1 div.sk-container {/* jupyter's `normalize.less` sets `[hidden] { display: none; }` but bootstrap.min.css set `[hidden] { display: none !important; }` so we also need the `!important` here to be able to override the default hidden behavior on the sphinx rendered scikit-learn.org. See: https://github.com/scikit-learn/scikit-learn/issues/21755 */display: inline-block !important;position: relative;}#sk-container-id-1 div.sk-text-repr-fallback {display: none;}</style><div id=\"sk-container-id-1\" class=\"sk-top-container\"><div class=\"sk-text-repr-fallback\"><pre>CRF(algorithm=&#x27;lbfgs&#x27;, all_possible_transitions=True, c1=0.001, c2=0.1)</pre><b>In a Jupyter environment, please rerun this cell to show the HTML representation or trust the notebook. <br />On GitHub, the HTML representation is unable to render, please try loading this page with nbviewer.org.</b></div><div class=\"sk-container\" hidden><div class=\"sk-item\"><div class=\"sk-estimator sk-toggleable\"><input class=\"sk-toggleable__control sk-hidden--visually\" id=\"sk-estimator-id-1\" type=\"checkbox\" checked><label for=\"sk-estimator-id-1\" class=\"sk-toggleable__label sk-toggleable__label-arrow\">CRF</label><div class=\"sk-toggleable__content\"><pre>CRF(algorithm=&#x27;lbfgs&#x27;, all_possible_transitions=True, c1=0.001, c2=0.1)</pre></div></div></div></div></div>"
      ],
      "text/plain": [
       "CRF(algorithm='lbfgs', all_possible_transitions=True, c1=0.001, c2=0.1)"
      ]
     },
     "execution_count": 25,
     "metadata": {},
     "output_type": "execute_result"
    }
   ],
   "source": [
    "c1 = 0.001\n",
    "c2 = 0.1\n",
    "\n",
    "X_train = np.array([prepareDatasetFeatures(data=df_train, i=i, window=window) for i in df_train.index])\n",
    "y_train = df_train['Label'].values\n",
    "\n",
    "crf = sklearn_crfsuite.CRF(\n",
    "    algorithm='lbfgs',\n",
    "    c1=c1,\n",
    "    c2=c2,\n",
    "    all_possible_transitions=True\n",
    ")\n",
    "crf.fit([X_train], [y_train])"
   ]
  },
  {
   "cell_type": "markdown",
   "metadata": {},
   "source": [
    "### Save model"
   ]
  },
  {
   "cell_type": "code",
   "execution_count": 26,
   "metadata": {},
   "outputs": [
    {
     "data": {
      "text/plain": [
       "['../models/crf_0.001_0.1_1.joblib']"
      ]
     },
     "execution_count": 26,
     "metadata": {},
     "output_type": "execute_result"
    }
   ],
   "source": [
    "os.makedirs('../models', exist_ok=True)\n",
    "joblib.dump(crf, f'../models/crf_{c1}_{c2}_{window}.joblib')"
   ]
  },
  {
   "cell_type": "markdown",
   "metadata": {},
   "source": [
    "### Evaluation"
   ]
  },
  {
   "cell_type": "markdown",
   "metadata": {},
   "source": [
    "### Load model"
   ]
  },
  {
   "cell_type": "code",
   "execution_count": 27,
   "metadata": {},
   "outputs": [
    {
     "data": {
      "text/html": [
       "<div>\n",
       "<style scoped>\n",
       "    .dataframe tbody tr th:only-of-type {\n",
       "        vertical-align: middle;\n",
       "    }\n",
       "\n",
       "    .dataframe tbody tr th {\n",
       "        vertical-align: top;\n",
       "    }\n",
       "\n",
       "    .dataframe thead th {\n",
       "        text-align: right;\n",
       "    }\n",
       "</style>\n",
       "<table border=\"1\" class=\"dataframe\">\n",
       "  <thead>\n",
       "    <tr style=\"text-align: right;\">\n",
       "      <th></th>\n",
       "      <th>Id</th>\n",
       "      <th>Token</th>\n",
       "      <th>lower</th>\n",
       "      <th>isdigit</th>\n",
       "      <th>isupper</th>\n",
       "      <th>ispunct</th>\n",
       "      <th>isstop</th>\n",
       "      <th>len</th>\n",
       "      <th>shape</th>\n",
       "    </tr>\n",
       "  </thead>\n",
       "  <tbody>\n",
       "    <tr>\n",
       "      <th>0</th>\n",
       "      <td>0</td>\n",
       "      <td>01</td>\n",
       "      <td>01</td>\n",
       "      <td>True</td>\n",
       "      <td>False</td>\n",
       "      <td>False</td>\n",
       "      <td>False</td>\n",
       "      <td>2</td>\n",
       "      <td>xx</td>\n",
       "    </tr>\n",
       "    <tr>\n",
       "      <th>1</th>\n",
       "      <td>1</td>\n",
       "      <td>2.1.4.8</td>\n",
       "      <td>2.1.4.8</td>\n",
       "      <td>False</td>\n",
       "      <td>False</td>\n",
       "      <td>False</td>\n",
       "      <td>False</td>\n",
       "      <td>7</td>\n",
       "      <td>xxxxxxx</td>\n",
       "    </tr>\n",
       "    <tr>\n",
       "      <th>2</th>\n",
       "      <td>2</td>\n",
       "      <td>.</td>\n",
       "      <td>.</td>\n",
       "      <td>False</td>\n",
       "      <td>False</td>\n",
       "      <td>True</td>\n",
       "      <td>False</td>\n",
       "      <td>1</td>\n",
       "      <td>x</td>\n",
       "    </tr>\n",
       "    <tr>\n",
       "      <th>3</th>\n",
       "      <td>3</td>\n",
       "      <td>Conduites</td>\n",
       "      <td>conduites</td>\n",
       "      <td>False</td>\n",
       "      <td>False</td>\n",
       "      <td>False</td>\n",
       "      <td>False</td>\n",
       "      <td>9</td>\n",
       "      <td>Xxxxxxxxx</td>\n",
       "    </tr>\n",
       "    <tr>\n",
       "      <th>4</th>\n",
       "      <td>4</td>\n",
       "      <td>sous-marines</td>\n",
       "      <td>sous-marines</td>\n",
       "      <td>False</td>\n",
       "      <td>False</td>\n",
       "      <td>False</td>\n",
       "      <td>False</td>\n",
       "      <td>12</td>\n",
       "      <td>xxxxxxxxxxxx</td>\n",
       "    </tr>\n",
       "    <tr>\n",
       "      <th>...</th>\n",
       "      <td>...</td>\n",
       "      <td>...</td>\n",
       "      <td>...</td>\n",
       "      <td>...</td>\n",
       "      <td>...</td>\n",
       "      <td>...</td>\n",
       "      <td>...</td>\n",
       "      <td>...</td>\n",
       "      <td>...</td>\n",
       "    </tr>\n",
       "    <tr>\n",
       "      <th>26168</th>\n",
       "      <td>26168</td>\n",
       "      <td>103</td>\n",
       "      <td>103</td>\n",
       "      <td>True</td>\n",
       "      <td>False</td>\n",
       "      <td>False</td>\n",
       "      <td>False</td>\n",
       "      <td>3</td>\n",
       "      <td>xxx</td>\n",
       "    </tr>\n",
       "    <tr>\n",
       "      <th>26169</th>\n",
       "      <td>26169</td>\n",
       "      <td>/</td>\n",
       "      <td>/</td>\n",
       "      <td>False</td>\n",
       "      <td>False</td>\n",
       "      <td>True</td>\n",
       "      <td>False</td>\n",
       "      <td>1</td>\n",
       "      <td>x</td>\n",
       "    </tr>\n",
       "    <tr>\n",
       "      <th>26170</th>\n",
       "      <td>26170</td>\n",
       "      <td>0</td>\n",
       "      <td>0</td>\n",
       "      <td>True</td>\n",
       "      <td>False</td>\n",
       "      <td>False</td>\n",
       "      <td>False</td>\n",
       "      <td>1</td>\n",
       "      <td>x</td>\n",
       "    </tr>\n",
       "    <tr>\n",
       "      <th>26171</th>\n",
       "      <td>26171</td>\n",
       "      <td>103</td>\n",
       "      <td>103</td>\n",
       "      <td>True</td>\n",
       "      <td>False</td>\n",
       "      <td>False</td>\n",
       "      <td>False</td>\n",
       "      <td>3</td>\n",
       "      <td>xxx</td>\n",
       "    </tr>\n",
       "    <tr>\n",
       "      <th>26172</th>\n",
       "      <td>26172</td>\n",
       "      <td>SAINT-PIERRE-ET-MIQUELON</td>\n",
       "      <td>saint-pierre-et-miquelon</td>\n",
       "      <td>False</td>\n",
       "      <td>True</td>\n",
       "      <td>False</td>\n",
       "      <td>False</td>\n",
       "      <td>24</td>\n",
       "      <td>XXXXXxXXXXXXxXXxXXXXXXXX</td>\n",
       "    </tr>\n",
       "  </tbody>\n",
       "</table>\n",
       "<p>26173 rows × 9 columns</p>\n",
       "</div>"
      ],
      "text/plain": [
       "          Id                     Token                     lower  isdigit  \\\n",
       "0          0                        01                        01     True   \n",
       "1          1                   2.1.4.8                   2.1.4.8    False   \n",
       "2          2                         .                         .    False   \n",
       "3          3                 Conduites                 conduites    False   \n",
       "4          4              sous-marines              sous-marines    False   \n",
       "...      ...                       ...                       ...      ...   \n",
       "26168  26168                       103                       103     True   \n",
       "26169  26169                         /                         /    False   \n",
       "26170  26170                         0                         0     True   \n",
       "26171  26171                       103                       103     True   \n",
       "26172  26172  SAINT-PIERRE-ET-MIQUELON  saint-pierre-et-miquelon    False   \n",
       "\n",
       "       isupper  ispunct  isstop  len                     shape  \n",
       "0        False    False   False    2                        xx  \n",
       "1        False    False   False    7                   xxxxxxx  \n",
       "2        False     True   False    1                         x  \n",
       "3        False    False   False    9                 Xxxxxxxxx  \n",
       "4        False    False   False   12              xxxxxxxxxxxx  \n",
       "...        ...      ...     ...  ...                       ...  \n",
       "26168    False    False   False    3                       xxx  \n",
       "26169    False     True   False    1                         x  \n",
       "26170    False    False   False    1                         x  \n",
       "26171    False    False   False    3                       xxx  \n",
       "26172     True    False   False   24  XXXXXxXXXXXXxXXxXXXXXXXX  \n",
       "\n",
       "[26173 rows x 9 columns]"
      ]
     },
     "execution_count": 27,
     "metadata": {},
     "output_type": "execute_result"
    }
   ],
   "source": [
    "copy_test = df_test.copy(deep=True)\n",
    "cleanData(copy_test)\n",
    "extractFeatures(copy_test)\n",
    "copy_test"
   ]
  },
  {
   "cell_type": "code",
   "execution_count": 28,
   "metadata": {},
   "outputs": [],
   "source": [
    "X = np.array([prepareDatasetFeatures(data=copy_test, i=i, window=window) for i in copy_test.index])"
   ]
  },
  {
   "cell_type": "code",
   "execution_count": 29,
   "metadata": {},
   "outputs": [
    {
     "data": {
      "text/html": [
       "<div>\n",
       "<style scoped>\n",
       "    .dataframe tbody tr th:only-of-type {\n",
       "        vertical-align: middle;\n",
       "    }\n",
       "\n",
       "    .dataframe tbody tr th {\n",
       "        vertical-align: top;\n",
       "    }\n",
       "\n",
       "    .dataframe thead th {\n",
       "        text-align: right;\n",
       "    }\n",
       "</style>\n",
       "<table border=\"1\" class=\"dataframe\">\n",
       "  <thead>\n",
       "    <tr style=\"text-align: right;\">\n",
       "      <th></th>\n",
       "      <th>Id</th>\n",
       "      <th>Token</th>\n",
       "      <th>lower</th>\n",
       "      <th>isdigit</th>\n",
       "      <th>isupper</th>\n",
       "      <th>ispunct</th>\n",
       "      <th>isstop</th>\n",
       "      <th>len</th>\n",
       "      <th>shape</th>\n",
       "      <th>Label</th>\n",
       "    </tr>\n",
       "  </thead>\n",
       "  <tbody>\n",
       "    <tr>\n",
       "      <th>0</th>\n",
       "      <td>0</td>\n",
       "      <td>01</td>\n",
       "      <td>01</td>\n",
       "      <td>True</td>\n",
       "      <td>False</td>\n",
       "      <td>False</td>\n",
       "      <td>False</td>\n",
       "      <td>2</td>\n",
       "      <td>xx</td>\n",
       "      <td>aucun</td>\n",
       "    </tr>\n",
       "    <tr>\n",
       "      <th>1</th>\n",
       "      <td>1</td>\n",
       "      <td>2.1.4.8</td>\n",
       "      <td>2.1.4.8</td>\n",
       "      <td>False</td>\n",
       "      <td>False</td>\n",
       "      <td>False</td>\n",
       "      <td>False</td>\n",
       "      <td>7</td>\n",
       "      <td>xxxxxxx</td>\n",
       "      <td>aucun</td>\n",
       "    </tr>\n",
       "    <tr>\n",
       "      <th>2</th>\n",
       "      <td>2</td>\n",
       "      <td>.</td>\n",
       "      <td>.</td>\n",
       "      <td>False</td>\n",
       "      <td>False</td>\n",
       "      <td>True</td>\n",
       "      <td>False</td>\n",
       "      <td>1</td>\n",
       "      <td>x</td>\n",
       "      <td>aucun</td>\n",
       "    </tr>\n",
       "    <tr>\n",
       "      <th>3</th>\n",
       "      <td>3</td>\n",
       "      <td>Conduites</td>\n",
       "      <td>conduites</td>\n",
       "      <td>False</td>\n",
       "      <td>False</td>\n",
       "      <td>False</td>\n",
       "      <td>False</td>\n",
       "      <td>9</td>\n",
       "      <td>Xxxxxxxxx</td>\n",
       "      <td>aucun</td>\n",
       "    </tr>\n",
       "    <tr>\n",
       "      <th>4</th>\n",
       "      <td>4</td>\n",
       "      <td>sous-marines</td>\n",
       "      <td>sous-marines</td>\n",
       "      <td>False</td>\n",
       "      <td>False</td>\n",
       "      <td>False</td>\n",
       "      <td>False</td>\n",
       "      <td>12</td>\n",
       "      <td>xxxxxxxxxxxx</td>\n",
       "      <td>aucun</td>\n",
       "    </tr>\n",
       "    <tr>\n",
       "      <th>...</th>\n",
       "      <td>...</td>\n",
       "      <td>...</td>\n",
       "      <td>...</td>\n",
       "      <td>...</td>\n",
       "      <td>...</td>\n",
       "      <td>...</td>\n",
       "      <td>...</td>\n",
       "      <td>...</td>\n",
       "      <td>...</td>\n",
       "      <td>...</td>\n",
       "    </tr>\n",
       "    <tr>\n",
       "      <th>26168</th>\n",
       "      <td>26168</td>\n",
       "      <td>103</td>\n",
       "      <td>103</td>\n",
       "      <td>True</td>\n",
       "      <td>False</td>\n",
       "      <td>False</td>\n",
       "      <td>False</td>\n",
       "      <td>3</td>\n",
       "      <td>xxx</td>\n",
       "      <td>aucun</td>\n",
       "    </tr>\n",
       "    <tr>\n",
       "      <th>26169</th>\n",
       "      <td>26169</td>\n",
       "      <td>/</td>\n",
       "      <td>/</td>\n",
       "      <td>False</td>\n",
       "      <td>False</td>\n",
       "      <td>True</td>\n",
       "      <td>False</td>\n",
       "      <td>1</td>\n",
       "      <td>x</td>\n",
       "      <td>aucun</td>\n",
       "    </tr>\n",
       "    <tr>\n",
       "      <th>26170</th>\n",
       "      <td>26170</td>\n",
       "      <td>0</td>\n",
       "      <td>0</td>\n",
       "      <td>True</td>\n",
       "      <td>False</td>\n",
       "      <td>False</td>\n",
       "      <td>False</td>\n",
       "      <td>1</td>\n",
       "      <td>x</td>\n",
       "      <td>aucun</td>\n",
       "    </tr>\n",
       "    <tr>\n",
       "      <th>26171</th>\n",
       "      <td>26171</td>\n",
       "      <td>103</td>\n",
       "      <td>103</td>\n",
       "      <td>True</td>\n",
       "      <td>False</td>\n",
       "      <td>False</td>\n",
       "      <td>False</td>\n",
       "      <td>3</td>\n",
       "      <td>xxx</td>\n",
       "      <td>aucun</td>\n",
       "    </tr>\n",
       "    <tr>\n",
       "      <th>26172</th>\n",
       "      <td>26172</td>\n",
       "      <td>SAINT-PIERRE-ET-MIQUELON</td>\n",
       "      <td>saint-pierre-et-miquelon</td>\n",
       "      <td>False</td>\n",
       "      <td>True</td>\n",
       "      <td>False</td>\n",
       "      <td>False</td>\n",
       "      <td>24</td>\n",
       "      <td>XXXXXxXXXXXXxXXxXXXXXXXX</td>\n",
       "      <td>aucun</td>\n",
       "    </tr>\n",
       "  </tbody>\n",
       "</table>\n",
       "<p>26173 rows × 10 columns</p>\n",
       "</div>"
      ],
      "text/plain": [
       "          Id                     Token                     lower  isdigit  \\\n",
       "0          0                        01                        01     True   \n",
       "1          1                   2.1.4.8                   2.1.4.8    False   \n",
       "2          2                         .                         .    False   \n",
       "3          3                 Conduites                 conduites    False   \n",
       "4          4              sous-marines              sous-marines    False   \n",
       "...      ...                       ...                       ...      ...   \n",
       "26168  26168                       103                       103     True   \n",
       "26169  26169                         /                         /    False   \n",
       "26170  26170                         0                         0     True   \n",
       "26171  26171                       103                       103     True   \n",
       "26172  26172  SAINT-PIERRE-ET-MIQUELON  saint-pierre-et-miquelon    False   \n",
       "\n",
       "       isupper  ispunct  isstop  len                     shape  Label  \n",
       "0        False    False   False    2                        xx  aucun  \n",
       "1        False    False   False    7                   xxxxxxx  aucun  \n",
       "2        False     True   False    1                         x  aucun  \n",
       "3        False    False   False    9                 Xxxxxxxxx  aucun  \n",
       "4        False    False   False   12              xxxxxxxxxxxx  aucun  \n",
       "...        ...      ...     ...  ...                       ...    ...  \n",
       "26168    False    False   False    3                       xxx  aucun  \n",
       "26169    False     True   False    1                         x  aucun  \n",
       "26170    False    False   False    1                         x  aucun  \n",
       "26171    False    False   False    3                       xxx  aucun  \n",
       "26172     True    False   False   24  XXXXXxXXXXXXxXXxXXXXXXXX  aucun  \n",
       "\n",
       "[26173 rows x 10 columns]"
      ]
     },
     "execution_count": 29,
     "metadata": {},
     "output_type": "execute_result"
    }
   ],
   "source": [
    "pred = crf.predict([X])\n",
    "copy_test['Label'] = pred[0]\n",
    "copy_test"
   ]
  },
  {
   "cell_type": "code",
   "execution_count": 30,
   "metadata": {},
   "outputs": [],
   "source": [
    "os.makedirs('../submissions', exist_ok=True)\n",
    "submission = copy_test[['Id', 'Label']]\n",
    "submission.to_csv(f'../submissions/submission_crf_only_{c1}_{c2}_{window}.csv', index=False)"
   ]
  },
  {
   "cell_type": "code",
   "execution_count": null,
   "metadata": {},
   "outputs": [],
   "source": []
  },
  {
   "cell_type": "code",
   "execution_count": null,
   "metadata": {},
   "outputs": [],
   "source": []
  },
  {
   "cell_type": "code",
   "execution_count": null,
   "metadata": {},
   "outputs": [],
   "source": []
  },
  {
   "cell_type": "code",
   "execution_count": null,
   "metadata": {},
   "outputs": [],
   "source": []
  },
  {
   "cell_type": "markdown",
   "metadata": {},
   "source": [
    "# Binary CRF classifier"
   ]
  },
  {
   "cell_type": "code",
   "execution_count": null,
   "metadata": {},
   "outputs": [],
   "source": [
    "#"
   ]
  },
  {
   "cell_type": "code",
   "execution_count": 12,
   "metadata": {},
   "outputs": [],
   "source": [
    "def binarizeLabels(labels:List[str]) -> np.array:\n",
    "    \"\"\"Binarizes labels as either \"aucun\" or \"NER\"\n",
    "\n",
    "    :param labels: List of labels to binarize\n",
    "    :type labels: List[str]\n",
    "    :return: Binarized list of labels\n",
    "    :rtype: np.array\n",
    "    \"\"\"\n",
    "    return np.array(['NER' if x != 'aucun' else 'aucun' for x in labels])\n",
    "y_train = binarizeLabels(y_train)"
   ]
  },
  {
   "cell_type": "code",
   "execution_count": null,
   "metadata": {},
   "outputs": [
    {
     "name": "stdout",
     "output_type": "stream",
     "text": [
      "[(0.5, 0.5), (0.5, 0.1), (0.5, 0.01), (0.5, 0.001), (0.5, 0.0001), (0.1, 0.5), (0.1, 0.1), (0.1, 0.01), (0.1, 0.001), (0.1, 0.0001), (0.01, 0.5), (0.01, 0.1), (0.01, 0.01), (0.01, 0.001), (0.01, 0.0001), (0.001, 0.5), (0.001, 0.1), (0.001, 0.01), (0.001, 0.001), (0.001, 0.0001), (0.0001, 0.5), (0.0001, 0.1), (0.0001, 0.01), (0.0001, 0.001), (0.0001, 0.0001)]\n"
     ]
    }
   ],
   "source": []
  },
  {
   "cell_type": "markdown",
   "metadata": {},
   "source": [
    "# CRF Grid Search"
   ]
  },
  {
   "cell_type": "code",
   "execution_count": 15,
   "metadata": {},
   "outputs": [
    {
     "data": {
      "text/plain": [
       "((27899,), (5979,), (27899,), (5979,), (5979,), (5979,))"
      ]
     },
     "execution_count": 15,
     "metadata": {},
     "output_type": "execute_result"
    }
   ],
   "source": [
    "X_train, X_dev, y_train, y_dev = train_test_split(X_train, y_train, train_size=.7, random_state=42)\n",
    "X_dev, X_test, y_dev, y_test = train_test_split(X_dev, y_dev, train_size=.5, random_state=42)\n",
    "\n",
    "X_train.shape, X_dev.shape, y_train.shape, y_dev.shape, X_test.shape, y_test.shape"
   ]
  },
  {
   "cell_type": "code",
   "execution_count": 14,
   "metadata": {},
   "outputs": [
    {
     "ename": "NameError",
     "evalue": "name 'X_dev' is not defined",
     "output_type": "error",
     "traceback": [
      "\u001b[0;31m---------------------------------------------------------------------------\u001b[0m",
      "\u001b[0;31mNameError\u001b[0m                                 Traceback (most recent call last)",
      "Cell \u001b[0;32mIn[14], line 28\u001b[0m\n\u001b[1;32m     26\u001b[0m crf_scores \u001b[39m=\u001b[39m []\n\u001b[1;32m     27\u001b[0m \u001b[39mfor\u001b[39;00m x \u001b[39min\u001b[39;00m crf_models:\n\u001b[0;32m---> 28\u001b[0m     y_pred \u001b[39m=\u001b[39m x\u001b[39m.\u001b[39mpredict([X_dev])\n\u001b[1;32m     29\u001b[0m     score \u001b[39m=\u001b[39m sklearn_crfsuite\u001b[39m.\u001b[39mmetrics\u001b[39m.\u001b[39mflat_accuracy_score([y_dev], y_pred)\n\u001b[1;32m     30\u001b[0m     \u001b[39m# print(x.score(, [y_dev]))\u001b[39;00m\n",
      "\u001b[0;31mNameError\u001b[0m: name 'X_dev' is not defined"
     ]
    }
   ],
   "source": [
    "\n",
    "# I had errors while trying RandomizedSearchCV, so I had to implement something a bit similar\n",
    "\n",
    "c1 = [0.5, 0.1, 0.01, 0.001, 0.0001]\n",
    "c2 = [0.5, 0.1, 0.01, 0.001, 0.0001]\n",
    "\n",
    "param_space = []\n",
    "\n",
    "# generates parameters combinations\n",
    "for i in range(len(c1)):\n",
    "    for j in range(len(c2)):\n",
    "        param_space.append((c1[i], c2[j]))\n",
    "\n",
    "# trains models for each possible combination of paramaters\n",
    "crf_models = []\n",
    "for param in param_space:\n",
    "    tmp_crf = sklearn_crfsuite.CRF(\n",
    "        algorithm='lbfgs',\n",
    "        c1=param[0],\n",
    "        c2=param[1],\n",
    "        # max_iterations=500,\n",
    "        all_possible_transitions=True\n",
    "    )\n",
    "    tmp_crf.fit([X_train], [y_train])\n",
    "    crf_models.append(tmp_crf)\n",
    "\n",
    "crf_scores = []\n",
    "for x in crf_models:\n",
    "    y_pred = x.predict([X_dev])\n",
    "    score = sklearn_crfsuite.metrics.flat_accuracy_score([y_dev], y_pred)\n",
    "    # print(x.score(, [y_dev]))\n",
    "    crf_scores.append(score)\n",
    "\n",
    "print('Best param:', param_space[np.argmax(crf_scores)])"
   ]
  },
  {
   "cell_type": "markdown",
   "metadata": {},
   "source": [
    "# Training CRF model with best parameters on whole dataset"
   ]
  },
  {
   "cell_type": "code",
   "execution_count": 17,
   "metadata": {},
   "outputs": [
    {
     "data": {
      "text/html": [
       "<style>#sk-container-id-1 {color: black;}#sk-container-id-1 pre{padding: 0;}#sk-container-id-1 div.sk-toggleable {background-color: white;}#sk-container-id-1 label.sk-toggleable__label {cursor: pointer;display: block;width: 100%;margin-bottom: 0;padding: 0.3em;box-sizing: border-box;text-align: center;}#sk-container-id-1 label.sk-toggleable__label-arrow:before {content: \"▸\";float: left;margin-right: 0.25em;color: #696969;}#sk-container-id-1 label.sk-toggleable__label-arrow:hover:before {color: black;}#sk-container-id-1 div.sk-estimator:hover label.sk-toggleable__label-arrow:before {color: black;}#sk-container-id-1 div.sk-toggleable__content {max-height: 0;max-width: 0;overflow: hidden;text-align: left;background-color: #f0f8ff;}#sk-container-id-1 div.sk-toggleable__content pre {margin: 0.2em;color: black;border-radius: 0.25em;background-color: #f0f8ff;}#sk-container-id-1 input.sk-toggleable__control:checked~div.sk-toggleable__content {max-height: 200px;max-width: 100%;overflow: auto;}#sk-container-id-1 input.sk-toggleable__control:checked~label.sk-toggleable__label-arrow:before {content: \"▾\";}#sk-container-id-1 div.sk-estimator input.sk-toggleable__control:checked~label.sk-toggleable__label {background-color: #d4ebff;}#sk-container-id-1 div.sk-label input.sk-toggleable__control:checked~label.sk-toggleable__label {background-color: #d4ebff;}#sk-container-id-1 input.sk-hidden--visually {border: 0;clip: rect(1px 1px 1px 1px);clip: rect(1px, 1px, 1px, 1px);height: 1px;margin: -1px;overflow: hidden;padding: 0;position: absolute;width: 1px;}#sk-container-id-1 div.sk-estimator {font-family: monospace;background-color: #f0f8ff;border: 1px dotted black;border-radius: 0.25em;box-sizing: border-box;margin-bottom: 0.5em;}#sk-container-id-1 div.sk-estimator:hover {background-color: #d4ebff;}#sk-container-id-1 div.sk-parallel-item::after {content: \"\";width: 100%;border-bottom: 1px solid gray;flex-grow: 1;}#sk-container-id-1 div.sk-label:hover label.sk-toggleable__label {background-color: #d4ebff;}#sk-container-id-1 div.sk-serial::before {content: \"\";position: absolute;border-left: 1px solid gray;box-sizing: border-box;top: 0;bottom: 0;left: 50%;z-index: 0;}#sk-container-id-1 div.sk-serial {display: flex;flex-direction: column;align-items: center;background-color: white;padding-right: 0.2em;padding-left: 0.2em;position: relative;}#sk-container-id-1 div.sk-item {position: relative;z-index: 1;}#sk-container-id-1 div.sk-parallel {display: flex;align-items: stretch;justify-content: center;background-color: white;position: relative;}#sk-container-id-1 div.sk-item::before, #sk-container-id-1 div.sk-parallel-item::before {content: \"\";position: absolute;border-left: 1px solid gray;box-sizing: border-box;top: 0;bottom: 0;left: 50%;z-index: -1;}#sk-container-id-1 div.sk-parallel-item {display: flex;flex-direction: column;z-index: 1;position: relative;background-color: white;}#sk-container-id-1 div.sk-parallel-item:first-child::after {align-self: flex-end;width: 50%;}#sk-container-id-1 div.sk-parallel-item:last-child::after {align-self: flex-start;width: 50%;}#sk-container-id-1 div.sk-parallel-item:only-child::after {width: 0;}#sk-container-id-1 div.sk-dashed-wrapped {border: 1px dashed gray;margin: 0 0.4em 0.5em 0.4em;box-sizing: border-box;padding-bottom: 0.4em;background-color: white;}#sk-container-id-1 div.sk-label label {font-family: monospace;font-weight: bold;display: inline-block;line-height: 1.2em;}#sk-container-id-1 div.sk-label-container {text-align: center;}#sk-container-id-1 div.sk-container {/* jupyter's `normalize.less` sets `[hidden] { display: none; }` but bootstrap.min.css set `[hidden] { display: none !important; }` so we also need the `!important` here to be able to override the default hidden behavior on the sphinx rendered scikit-learn.org. See: https://github.com/scikit-learn/scikit-learn/issues/21755 */display: inline-block !important;position: relative;}#sk-container-id-1 div.sk-text-repr-fallback {display: none;}</style><div id=\"sk-container-id-1\" class=\"sk-top-container\"><div class=\"sk-text-repr-fallback\"><pre>CRF(algorithm=&#x27;lbfgs&#x27;, all_possible_transitions=True, c1=0.0001, c2=0.1)</pre><b>In a Jupyter environment, please rerun this cell to show the HTML representation or trust the notebook. <br />On GitHub, the HTML representation is unable to render, please try loading this page with nbviewer.org.</b></div><div class=\"sk-container\" hidden><div class=\"sk-item\"><div class=\"sk-estimator sk-toggleable\"><input class=\"sk-toggleable__control sk-hidden--visually\" id=\"sk-estimator-id-1\" type=\"checkbox\" checked><label for=\"sk-estimator-id-1\" class=\"sk-toggleable__label sk-toggleable__label-arrow\">CRF</label><div class=\"sk-toggleable__content\"><pre>CRF(algorithm=&#x27;lbfgs&#x27;, all_possible_transitions=True, c1=0.0001, c2=0.1)</pre></div></div></div></div></div>"
      ],
      "text/plain": [
       "CRF(algorithm='lbfgs', all_possible_transitions=True, c1=0.0001, c2=0.1)"
      ]
     },
     "execution_count": 17,
     "metadata": {},
     "output_type": "execute_result"
    }
   ],
   "source": [
    "# Best param: (0.0001, 0.1)\n",
    "\n",
    "X_train = np.array([prepareDatasetFeatures(data=df_train, i=i) for i in df_train.index])\n",
    "y_train = binarizeLabels(df_train['Label'].values)\n",
    "\n",
    "crf = sklearn_crfsuite.CRF(\n",
    "    algorithm='lbfgs',\n",
    "    c1=0.0001,\n",
    "    c2=0.1,\n",
    "    # max_iterations=500,\n",
    "    all_possible_transitions=True\n",
    ")\n",
    "crf.fit([X_train], [y_train])"
   ]
  },
  {
   "cell_type": "code",
   "execution_count": 21,
   "metadata": {},
   "outputs": [
    {
     "data": {
      "text/plain": [
       "['../models/crf.joblib']"
      ]
     },
     "execution_count": 21,
     "metadata": {},
     "output_type": "execute_result"
    }
   ],
   "source": [
    "os.makedirs('../models', exist_ok=True)\n",
    "joblib.dump(crf, '../models/crf_binary.joblib')"
   ]
  }
 ],
 "metadata": {
  "kernelspec": {
   "display_name": "textmine",
   "language": "python",
   "name": "python3"
  },
  "language_info": {
   "codemirror_mode": {
    "name": "ipython",
    "version": 3
   },
   "file_extension": ".py",
   "mimetype": "text/x-python",
   "name": "python",
   "nbconvert_exporter": "python",
   "pygments_lexer": "ipython3",
   "version": "3.11.4"
  },
  "orig_nbformat": 4
 },
 "nbformat": 4,
 "nbformat_minor": 2
}
